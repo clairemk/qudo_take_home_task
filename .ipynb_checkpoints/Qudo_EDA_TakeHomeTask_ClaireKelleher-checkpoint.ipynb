{
 "cells": [
  {
   "cell_type": "markdown",
   "id": "a17ea105",
   "metadata": {},
   "source": [
    "### Import packages"
   ]
  },
  {
   "cell_type": "code",
   "execution_count": 1,
   "id": "e4430738",
   "metadata": {},
   "outputs": [],
   "source": [
    "import pandas as pd \n",
    "import numpy as np\n",
    "import json\n",
    "\n",
    "from sklearn.cluster import KMeans\n",
    "\n",
    "import statsmodels.api as sm\n",
    "from sklearn.model_selection import train_test_split\n",
    "from sklearn import metrics\n",
    "\n",
    "from sklearn.datasets import make_friedman1\n",
    "from sklearn.feature_selection import RFE\n",
    "from sklearn.svm import SVR\n",
    "\n",
    "import matplotlib.pyplot as plt\n",
    "import matplotlib.pyplot as plt\n",
    "%matplotlib inline \n",
    "\n",
    "pd.set_option('display.max_colwidth', None)\n",
    "pd.options.mode.chained_assignment = None\n",
    "\n",
    "import re\n",
    "\n",
    "from sklearn.feature_selection import RFE\n",
    "from sklearn.svm import SVR\n",
    "\n",
    "from itertools import compress\n",
    "\n",
    "from sklearn.preprocessing import MinMaxScaler"
   ]
  },
  {
   "cell_type": "markdown",
   "id": "4dd190bb",
   "metadata": {},
   "source": [
    "### Import CSV (Surveys)"
   ]
  },
  {
   "cell_type": "code",
   "execution_count": 2,
   "id": "a36023e5",
   "metadata": {},
   "outputs": [],
   "source": [
    "#Travel Survey\n",
    "url_travelsurv = r'https://raw.githubusercontent.com/sigamani/technical-test/main/statista/Travel_survey.csv'\n",
    "df_travsurv = pd.read_csv(url_travelsurv, low_memory=False)\n",
    "\n",
    "#Services and eServices\n",
    "url_servsurv = r'https://raw.githubusercontent.com/sigamani/technical-test/main/statista/Services%20%26%20eServices_survey.csv'\n",
    "df_servsurv = pd.read_csv(url_servsurv, low_memory=False)"
   ]
  },
  {
   "cell_type": "code",
   "execution_count": 3,
   "id": "ff56c48c",
   "metadata": {},
   "outputs": [
    {
     "data": {
      "text/html": [
       "<div>\n",
       "<style scoped>\n",
       "    .dataframe tbody tr th:only-of-type {\n",
       "        vertical-align: middle;\n",
       "    }\n",
       "\n",
       "    .dataframe tbody tr th {\n",
       "        vertical-align: top;\n",
       "    }\n",
       "\n",
       "    .dataframe thead th {\n",
       "        text-align: right;\n",
       "    }\n",
       "</style>\n",
       "<table border=\"1\" class=\"dataframe\">\n",
       "  <thead>\n",
       "    <tr style=\"text-align: right;\">\n",
       "      <th></th>\n",
       "      <th>v9915_demo_children</th>\n",
       "      <th>wave</th>\n",
       "      <th>v0013_demo_agecat</th>\n",
       "      <th>v0154_etra_travelbookings#1</th>\n",
       "      <th>v9917_demo_rental</th>\n",
       "      <th>v0157_etra_brandsflights#2</th>\n",
       "      <th>v9992_demo_migration#1</th>\n",
       "      <th>v9990_demo_income2gbr</th>\n",
       "      <th>v0553_mobi_brandcar</th>\n",
       "      <th>v0151_etra_frequencytravel1</th>\n",
       "      <th>...</th>\n",
       "      <th>GV_339#7</th>\n",
       "      <th>GV_339#8</th>\n",
       "      <th>GV_339#9</th>\n",
       "      <th>GV_339#9999</th>\n",
       "      <th>GV_401</th>\n",
       "      <th>GV_559#1</th>\n",
       "      <th>GV_559#2</th>\n",
       "      <th>GV_559#3</th>\n",
       "      <th>GV_559#4</th>\n",
       "      <th>GV_559#5</th>\n",
       "    </tr>\n",
       "  </thead>\n",
       "  <tbody>\n",
       "    <tr>\n",
       "      <th>0</th>\n",
       "      <td>no children</td>\n",
       "      <td>1.0</td>\n",
       "      <td>55 - 64 years</td>\n",
       "      <td>0.0</td>\n",
       "      <td>I live in my own house</td>\n",
       "      <td>-99.0</td>\n",
       "      <td>0.0</td>\n",
       "      <td>£ 43 200 up to less than £ 57 600</td>\n",
       "      <td>-99.0</td>\n",
       "      <td>2-3 times</td>\n",
       "      <td>...</td>\n",
       "      <td>-99.0</td>\n",
       "      <td>-99.0</td>\n",
       "      <td>-99.0</td>\n",
       "      <td>-99.0</td>\n",
       "      <td>-99</td>\n",
       "      <td>0.0</td>\n",
       "      <td>0.0</td>\n",
       "      <td>0.0</td>\n",
       "      <td>0.0</td>\n",
       "      <td>0.0</td>\n",
       "    </tr>\n",
       "    <tr>\n",
       "      <th>1</th>\n",
       "      <td>no children</td>\n",
       "      <td>1.0</td>\n",
       "      <td>35 - 44 years</td>\n",
       "      <td>1.0</td>\n",
       "      <td>I live in a rented house</td>\n",
       "      <td>-99.0</td>\n",
       "      <td>0.0</td>\n",
       "      <td>£ 31 200 up to less than £ 43 200</td>\n",
       "      <td>Peugeot</td>\n",
       "      <td>once</td>\n",
       "      <td>...</td>\n",
       "      <td>-99.0</td>\n",
       "      <td>-99.0</td>\n",
       "      <td>-99.0</td>\n",
       "      <td>-99.0</td>\n",
       "      <td>other</td>\n",
       "      <td>0.0</td>\n",
       "      <td>0.0</td>\n",
       "      <td>0.0</td>\n",
       "      <td>0.0</td>\n",
       "      <td>0.0</td>\n",
       "    </tr>\n",
       "  </tbody>\n",
       "</table>\n",
       "<p>2 rows × 437 columns</p>\n",
       "</div>"
      ],
      "text/plain": [
       "  v9915_demo_children  wave v0013_demo_agecat  v0154_etra_travelbookings#1  \\\n",
       "0         no children   1.0     55 - 64 years                          0.0   \n",
       "1         no children   1.0     35 - 44 years                          1.0   \n",
       "\n",
       "          v9917_demo_rental  v0157_etra_brandsflights#2  \\\n",
       "0    I live in my own house                       -99.0   \n",
       "1  I live in a rented house                       -99.0   \n",
       "\n",
       "   v9992_demo_migration#1              v9990_demo_income2gbr  \\\n",
       "0                     0.0  £ 43 200 up to less than £ 57 600   \n",
       "1                     0.0  £ 31 200 up to less than £ 43 200   \n",
       "\n",
       "  v0553_mobi_brandcar v0151_etra_frequencytravel1  ... GV_339#7  GV_339#8  \\\n",
       "0               -99.0                   2-3 times  ...    -99.0     -99.0   \n",
       "1             Peugeot                        once  ...    -99.0     -99.0   \n",
       "\n",
       "  GV_339#9 GV_339#9999 GV_401  GV_559#1 GV_559#2 GV_559#3 GV_559#4 GV_559#5  \n",
       "0    -99.0       -99.0    -99       0.0      0.0      0.0      0.0      0.0  \n",
       "1    -99.0       -99.0  other       0.0      0.0      0.0      0.0      0.0  \n",
       "\n",
       "[2 rows x 437 columns]"
      ]
     },
     "execution_count": 3,
     "metadata": {},
     "output_type": "execute_result"
    }
   ],
   "source": [
    "df_travsurv.head(2)"
   ]
  },
  {
   "cell_type": "code",
   "execution_count": 4,
   "id": "d5f931b5",
   "metadata": {},
   "outputs": [
    {
     "data": {
      "text/html": [
       "<div>\n",
       "<style scoped>\n",
       "    .dataframe tbody tr th:only-of-type {\n",
       "        vertical-align: middle;\n",
       "    }\n",
       "\n",
       "    .dataframe tbody tr th {\n",
       "        vertical-align: top;\n",
       "    }\n",
       "\n",
       "    .dataframe thead th {\n",
       "        text-align: right;\n",
       "    }\n",
       "</style>\n",
       "<table border=\"1\" class=\"dataframe\">\n",
       "  <thead>\n",
       "    <tr style=\"text-align: right;\">\n",
       "      <th></th>\n",
       "      <th>v9993c_demo_religion</th>\n",
       "      <th>v0013d_demo_agecat</th>\n",
       "      <th>v0443d_inte_social</th>\n",
       "      <th>v0356f_eser_usageservices</th>\n",
       "      <th>v9990c_demo_income_5#1</th>\n",
       "      <th>v0013e_demo_agecat</th>\n",
       "      <th>v9992b_demo_migration</th>\n",
       "      <th>v0364b_eser_moneyprof</th>\n",
       "      <th>v9912c_demo_profession</th>\n",
       "      <th>v9917b_demo_rental</th>\n",
       "      <th>...</th>\n",
       "      <th>GV_339#7</th>\n",
       "      <th>GV_339#8</th>\n",
       "      <th>GV_339#9</th>\n",
       "      <th>GV_339#9999</th>\n",
       "      <th>GV_401</th>\n",
       "      <th>GV_559#1</th>\n",
       "      <th>GV_559#2</th>\n",
       "      <th>GV_559#3</th>\n",
       "      <th>GV_559#4</th>\n",
       "      <th>GV_559#5</th>\n",
       "    </tr>\n",
       "  </thead>\n",
       "  <tbody>\n",
       "    <tr>\n",
       "      <th>0</th>\n",
       "      <td>would rather not say</td>\n",
       "      <td>40 - 49 years</td>\n",
       "      <td>instant messaging user</td>\n",
       "      <td>restaurant and food delivery user</td>\n",
       "      <td>-99.0</td>\n",
       "      <td>45 - 49 years</td>\n",
       "      <td>would rather not say</td>\n",
       "      <td>professional training purchaser</td>\n",
       "      <td>working (full-time employed / part-time employed / self-employed / freelancer)</td>\n",
       "      <td>owned house / apartment</td>\n",
       "      <td>...</td>\n",
       "      <td>-99.0</td>\n",
       "      <td>-99.0</td>\n",
       "      <td>-99.0</td>\n",
       "      <td>-99.0</td>\n",
       "      <td>nurse</td>\n",
       "      <td>0.0</td>\n",
       "      <td>0.0</td>\n",
       "      <td>0.0</td>\n",
       "      <td>0.0</td>\n",
       "      <td>0.0</td>\n",
       "    </tr>\n",
       "    <tr>\n",
       "      <th>1</th>\n",
       "      <td>non-religious/atheist</td>\n",
       "      <td>50 - 59 years</td>\n",
       "      <td>non-user</td>\n",
       "      <td>restaurant and food delivery user</td>\n",
       "      <td>0.0</td>\n",
       "      <td>55 - 59 years</td>\n",
       "      <td>no migrant background</td>\n",
       "      <td>non-purchaser</td>\n",
       "      <td>working (full-time employed / part-time employed / self-employed / freelancer)</td>\n",
       "      <td>owned house / apartment</td>\n",
       "      <td>...</td>\n",
       "      <td>0.0</td>\n",
       "      <td>0.0</td>\n",
       "      <td>0.0</td>\n",
       "      <td>0.0</td>\n",
       "      <td>I do not work in the public sector</td>\n",
       "      <td>0.0</td>\n",
       "      <td>1.0</td>\n",
       "      <td>0.0</td>\n",
       "      <td>0.0</td>\n",
       "      <td>0.0</td>\n",
       "    </tr>\n",
       "  </tbody>\n",
       "</table>\n",
       "<p>2 rows × 457 columns</p>\n",
       "</div>"
      ],
      "text/plain": [
       "    v9993c_demo_religion v0013d_demo_agecat      v0443d_inte_social  \\\n",
       "0   would rather not say      40 - 49 years  instant messaging user   \n",
       "1  non-religious/atheist      50 - 59 years                non-user   \n",
       "\n",
       "           v0356f_eser_usageservices  v9990c_demo_income_5#1  \\\n",
       "0  restaurant and food delivery user                   -99.0   \n",
       "1  restaurant and food delivery user                     0.0   \n",
       "\n",
       "  v0013e_demo_agecat  v9992b_demo_migration            v0364b_eser_moneyprof  \\\n",
       "0      45 - 49 years   would rather not say  professional training purchaser   \n",
       "1      55 - 59 years  no migrant background                    non-purchaser   \n",
       "\n",
       "                                                           v9912c_demo_profession  \\\n",
       "0  working (full-time employed / part-time employed / self-employed / freelancer)   \n",
       "1  working (full-time employed / part-time employed / self-employed / freelancer)   \n",
       "\n",
       "        v9917b_demo_rental  ... GV_339#7  GV_339#8 GV_339#9 GV_339#9999  \\\n",
       "0  owned house / apartment  ...    -99.0     -99.0    -99.0       -99.0   \n",
       "1  owned house / apartment  ...      0.0       0.0      0.0         0.0   \n",
       "\n",
       "                               GV_401 GV_559#1 GV_559#2 GV_559#3 GV_559#4  \\\n",
       "0                               nurse      0.0      0.0      0.0      0.0   \n",
       "1  I do not work in the public sector      0.0      1.0      0.0      0.0   \n",
       "\n",
       "  GV_559#5  \n",
       "0      0.0  \n",
       "1      0.0  \n",
       "\n",
       "[2 rows x 457 columns]"
      ]
     },
     "execution_count": 4,
     "metadata": {},
     "output_type": "execute_result"
    }
   ],
   "source": [
    "df_servsurv.head(2)"
   ]
  },
  {
   "cell_type": "markdown",
   "id": "291f2587",
   "metadata": {},
   "source": [
    "### Import JSON (Question and answer titles)"
   ]
  },
  {
   "cell_type": "code",
   "execution_count": 5,
   "id": "3ca259e6",
   "metadata": {},
   "outputs": [],
   "source": [
    "### Column headings - Answer options\n",
    "url_mpcols = 'https://raw.githubusercontent.com/sigamani/technical-test/main/statista/MP_Columns_dict.json'\n",
    "answers_df = pd.read_json(url_mpcols,lines=True)\n",
    "answers_df = answers_df.transpose().reset_index()\n",
    "answers_df.columns = ['ID_label','Answer_options']"
   ]
  },
  {
   "cell_type": "code",
   "execution_count": 6,
   "id": "80dac8db",
   "metadata": {},
   "outputs": [],
   "source": [
    "### Column headings - Questions\n",
    "url_idlabs = 'https://raw.githubusercontent.com/sigamani/technical-test/main/statista/ID_ItemLabel_dict.json'\n",
    "ques_df = pd.read_json(url_idlabs,lines=True)\n",
    "ques_df = ques_df.transpose().reset_index()\n",
    "ques_df.columns = ['ID_label','Question']"
   ]
  },
  {
   "cell_type": "code",
   "execution_count": 7,
   "id": "3f7924db",
   "metadata": {},
   "outputs": [
    {
     "data": {
      "text/html": [
       "<div>\n",
       "<style scoped>\n",
       "    .dataframe tbody tr th:only-of-type {\n",
       "        vertical-align: middle;\n",
       "    }\n",
       "\n",
       "    .dataframe tbody tr th {\n",
       "        vertical-align: top;\n",
       "    }\n",
       "\n",
       "    .dataframe thead th {\n",
       "        text-align: right;\n",
       "    }\n",
       "</style>\n",
       "<table border=\"1\" class=\"dataframe\">\n",
       "  <thead>\n",
       "    <tr style=\"text-align: right;\">\n",
       "      <th></th>\n",
       "      <th>ID_label</th>\n",
       "      <th>Question</th>\n",
       "    </tr>\n",
       "  </thead>\n",
       "  <tbody>\n",
       "    <tr>\n",
       "      <th>0</th>\n",
       "      <td>year</td>\n",
       "      <td>Recode based on time of the interview</td>\n",
       "    </tr>\n",
       "    <tr>\n",
       "      <th>1</th>\n",
       "      <td>wave</td>\n",
       "      <td>Recode based on time of the interview</td>\n",
       "    </tr>\n",
       "    <tr>\n",
       "      <th>2</th>\n",
       "      <td>v0003_demo_quarter</td>\n",
       "      <td>Recode based on time of the interview</td>\n",
       "    </tr>\n",
       "    <tr>\n",
       "      <th>3</th>\n",
       "      <td>v0004_demo_month</td>\n",
       "      <td>Recode based on time of the interview</td>\n",
       "    </tr>\n",
       "    <tr>\n",
       "      <th>4</th>\n",
       "      <td>CoronaVirus</td>\n",
       "      <td>Recode based on time of the interview and records of the Coronavirus/COVID-19 timeline in each respective country</td>\n",
       "    </tr>\n",
       "  </tbody>\n",
       "</table>\n",
       "</div>"
      ],
      "text/plain": [
       "             ID_label  \\\n",
       "0                year   \n",
       "1                wave   \n",
       "2  v0003_demo_quarter   \n",
       "3    v0004_demo_month   \n",
       "4         CoronaVirus   \n",
       "\n",
       "                                                                                                            Question  \n",
       "0                                                                              Recode based on time of the interview  \n",
       "1                                                                              Recode based on time of the interview  \n",
       "2                                                                              Recode based on time of the interview  \n",
       "3                                                                              Recode based on time of the interview  \n",
       "4  Recode based on time of the interview and records of the Coronavirus/COVID-19 timeline in each respective country  "
      ]
     },
     "execution_count": 7,
     "metadata": {},
     "output_type": "execute_result"
    }
   ],
   "source": [
    "ques_df.head()"
   ]
  },
  {
   "cell_type": "code",
   "execution_count": 8,
   "id": "0c37f13f",
   "metadata": {},
   "outputs": [
    {
     "data": {
      "text/html": [
       "<div>\n",
       "<style scoped>\n",
       "    .dataframe tbody tr th:only-of-type {\n",
       "        vertical-align: middle;\n",
       "    }\n",
       "\n",
       "    .dataframe tbody tr th {\n",
       "        vertical-align: top;\n",
       "    }\n",
       "\n",
       "    .dataframe thead th {\n",
       "        text-align: right;\n",
       "    }\n",
       "</style>\n",
       "<table border=\"1\" class=\"dataframe\">\n",
       "  <thead>\n",
       "    <tr style=\"text-align: right;\">\n",
       "      <th></th>\n",
       "      <th>ID_label</th>\n",
       "      <th>Question</th>\n",
       "    </tr>\n",
       "  </thead>\n",
       "  <tbody>\n",
       "    <tr>\n",
       "      <th>474</th>\n",
       "      <td>v0049_life_devicesinternet</td>\n",
       "      <td>\"Which of these devices do you regularly use with an internet connection?\"</td>\n",
       "    </tr>\n",
       "    <tr>\n",
       "      <th>475</th>\n",
       "      <td>v0049b_life_devicesinternet</td>\n",
       "      <td>Recode based on \"Internet usage by device\"</td>\n",
       "    </tr>\n",
       "  </tbody>\n",
       "</table>\n",
       "</div>"
      ],
      "text/plain": [
       "                        ID_label  \\\n",
       "474   v0049_life_devicesinternet   \n",
       "475  v0049b_life_devicesinternet   \n",
       "\n",
       "                                                                       Question  \n",
       "474  \"Which of these devices do you regularly use with an internet connection?\"  \n",
       "475                                  Recode based on \"Internet usage by device\"  "
      ]
     },
     "execution_count": 8,
     "metadata": {},
     "output_type": "execute_result"
    }
   ],
   "source": [
    "ques_df[ques_df['ID_label'].str.contains('v0049')]"
   ]
  },
  {
   "cell_type": "code",
   "execution_count": 9,
   "id": "316df60b",
   "metadata": {},
   "outputs": [
    {
     "data": {
      "text/html": [
       "<div>\n",
       "<style scoped>\n",
       "    .dataframe tbody tr th:only-of-type {\n",
       "        vertical-align: middle;\n",
       "    }\n",
       "\n",
       "    .dataframe tbody tr th {\n",
       "        vertical-align: top;\n",
       "    }\n",
       "\n",
       "    .dataframe thead th {\n",
       "        text-align: right;\n",
       "    }\n",
       "</style>\n",
       "<table border=\"1\" class=\"dataframe\">\n",
       "  <thead>\n",
       "    <tr style=\"text-align: right;\">\n",
       "      <th></th>\n",
       "      <th>ID_label</th>\n",
       "      <th>Answer_options</th>\n",
       "    </tr>\n",
       "  </thead>\n",
       "  <tbody>\n",
       "    <tr>\n",
       "      <th>0</th>\n",
       "      <td>v0049_life_devicesinternet#1</td>\n",
       "      <td>desktop PC</td>\n",
       "    </tr>\n",
       "    <tr>\n",
       "      <th>1</th>\n",
       "      <td>v0049_life_devicesinternet#10</td>\n",
       "      <td>gaming console (e.g. PS4, Xbox)</td>\n",
       "    </tr>\n",
       "    <tr>\n",
       "      <th>2</th>\n",
       "      <td>v0049_life_devicesinternet#2</td>\n",
       "      <td>laptop with touch screen</td>\n",
       "    </tr>\n",
       "    <tr>\n",
       "      <th>3</th>\n",
       "      <td>v0049_life_devicesinternet#3</td>\n",
       "      <td>regular laptop (without touch screen)</td>\n",
       "    </tr>\n",
       "    <tr>\n",
       "      <th>4</th>\n",
       "      <td>v0049_life_devicesinternet#9</td>\n",
       "      <td>smart speakers (e.g. Amazon Echo)</td>\n",
       "    </tr>\n",
       "    <tr>\n",
       "      <th>5</th>\n",
       "      <td>v0049_life_devicesinternet#6</td>\n",
       "      <td>smart TV</td>\n",
       "    </tr>\n",
       "    <tr>\n",
       "      <th>6</th>\n",
       "      <td>v0049_life_devicesinternet#5</td>\n",
       "      <td>smartphone</td>\n",
       "    </tr>\n",
       "    <tr>\n",
       "      <th>7</th>\n",
       "      <td>v0049_life_devicesinternet#8</td>\n",
       "      <td>smartwatch</td>\n",
       "    </tr>\n",
       "    <tr>\n",
       "      <th>8</th>\n",
       "      <td>v0049_life_devicesinternet#4</td>\n",
       "      <td>streaming device (e.g. Apple TV, Chromecast)</td>\n",
       "    </tr>\n",
       "    <tr>\n",
       "      <th>9</th>\n",
       "      <td>v0049_life_devicesinternet#7</td>\n",
       "      <td>tablet</td>\n",
       "    </tr>\n",
       "    <tr>\n",
       "      <th>10</th>\n",
       "      <td>v0049_life_devicesinternet#888</td>\n",
       "      <td>none of the above</td>\n",
       "    </tr>\n",
       "  </tbody>\n",
       "</table>\n",
       "</div>"
      ],
      "text/plain": [
       "                          ID_label  \\\n",
       "0     v0049_life_devicesinternet#1   \n",
       "1    v0049_life_devicesinternet#10   \n",
       "2     v0049_life_devicesinternet#2   \n",
       "3     v0049_life_devicesinternet#3   \n",
       "4     v0049_life_devicesinternet#9   \n",
       "5     v0049_life_devicesinternet#6   \n",
       "6     v0049_life_devicesinternet#5   \n",
       "7     v0049_life_devicesinternet#8   \n",
       "8     v0049_life_devicesinternet#4   \n",
       "9     v0049_life_devicesinternet#7   \n",
       "10  v0049_life_devicesinternet#888   \n",
       "\n",
       "                                  Answer_options  \n",
       "0                                     desktop PC  \n",
       "1                gaming console (e.g. PS4, Xbox)  \n",
       "2                       laptop with touch screen  \n",
       "3          regular laptop (without touch screen)  \n",
       "4              smart speakers (e.g. Amazon Echo)  \n",
       "5                                       smart TV  \n",
       "6                                     smartphone  \n",
       "7                                     smartwatch  \n",
       "8   streaming device (e.g. Apple TV, Chromecast)  \n",
       "9                                         tablet  \n",
       "10                             none of the above  "
      ]
     },
     "execution_count": 9,
     "metadata": {},
     "output_type": "execute_result"
    }
   ],
   "source": [
    "answers_df[answers_df['ID_label'].str.contains('v0049')]"
   ]
  },
  {
   "cell_type": "markdown",
   "id": "aabadcd7",
   "metadata": {},
   "source": [
    "## EDA\n",
    "\n",
    "- Clustering to find groups which are based on their travel habits.\n",
    "- Are there any distinct audiences you can see to target on Google/Social Media?\n",
    "- Can you spot anything interesting in terms of trends when you look at the two waves?\n",
    "- Anything else you think is interesting?"
   ]
  },
  {
   "cell_type": "code",
   "execution_count": 10,
   "id": "535648c8",
   "metadata": {},
   "outputs": [
    {
     "data": {
      "text/html": [
       "<div>\n",
       "<style scoped>\n",
       "    .dataframe tbody tr th:only-of-type {\n",
       "        vertical-align: middle;\n",
       "    }\n",
       "\n",
       "    .dataframe tbody tr th {\n",
       "        vertical-align: top;\n",
       "    }\n",
       "\n",
       "    .dataframe thead th {\n",
       "        text-align: right;\n",
       "    }\n",
       "</style>\n",
       "<table border=\"1\" class=\"dataframe\">\n",
       "  <thead>\n",
       "    <tr style=\"text-align: right;\">\n",
       "      <th></th>\n",
       "      <th>v9915_demo_children</th>\n",
       "      <th>wave</th>\n",
       "      <th>v0013_demo_agecat</th>\n",
       "      <th>v0154_etra_travelbookings#1</th>\n",
       "      <th>v9917_demo_rental</th>\n",
       "      <th>v0157_etra_brandsflights#2</th>\n",
       "      <th>v9992_demo_migration#1</th>\n",
       "      <th>v9990_demo_income2gbr</th>\n",
       "      <th>v0553_mobi_brandcar</th>\n",
       "      <th>v0151_etra_frequencytravel1</th>\n",
       "      <th>...</th>\n",
       "      <th>GV_339#7</th>\n",
       "      <th>GV_339#8</th>\n",
       "      <th>GV_339#9</th>\n",
       "      <th>GV_339#9999</th>\n",
       "      <th>GV_401</th>\n",
       "      <th>GV_559#1</th>\n",
       "      <th>GV_559#2</th>\n",
       "      <th>GV_559#3</th>\n",
       "      <th>GV_559#4</th>\n",
       "      <th>GV_559#5</th>\n",
       "    </tr>\n",
       "  </thead>\n",
       "  <tbody>\n",
       "    <tr>\n",
       "      <th>0</th>\n",
       "      <td>no children</td>\n",
       "      <td>1.0</td>\n",
       "      <td>55 - 64 years</td>\n",
       "      <td>0.0</td>\n",
       "      <td>I live in my own house</td>\n",
       "      <td>-99.0</td>\n",
       "      <td>0.0</td>\n",
       "      <td>£ 43 200 up to less than £ 57 600</td>\n",
       "      <td>-99.0</td>\n",
       "      <td>2-3 times</td>\n",
       "      <td>...</td>\n",
       "      <td>-99.0</td>\n",
       "      <td>-99.0</td>\n",
       "      <td>-99.0</td>\n",
       "      <td>-99.0</td>\n",
       "      <td>-99</td>\n",
       "      <td>0.0</td>\n",
       "      <td>0.0</td>\n",
       "      <td>0.0</td>\n",
       "      <td>0.0</td>\n",
       "      <td>0.0</td>\n",
       "    </tr>\n",
       "    <tr>\n",
       "      <th>1</th>\n",
       "      <td>no children</td>\n",
       "      <td>1.0</td>\n",
       "      <td>35 - 44 years</td>\n",
       "      <td>1.0</td>\n",
       "      <td>I live in a rented house</td>\n",
       "      <td>-99.0</td>\n",
       "      <td>0.0</td>\n",
       "      <td>£ 31 200 up to less than £ 43 200</td>\n",
       "      <td>Peugeot</td>\n",
       "      <td>once</td>\n",
       "      <td>...</td>\n",
       "      <td>-99.0</td>\n",
       "      <td>-99.0</td>\n",
       "      <td>-99.0</td>\n",
       "      <td>-99.0</td>\n",
       "      <td>other</td>\n",
       "      <td>0.0</td>\n",
       "      <td>0.0</td>\n",
       "      <td>0.0</td>\n",
       "      <td>0.0</td>\n",
       "      <td>0.0</td>\n",
       "    </tr>\n",
       "    <tr>\n",
       "      <th>2</th>\n",
       "      <td>no children</td>\n",
       "      <td>2.0</td>\n",
       "      <td>45 - 54 years</td>\n",
       "      <td>0.0</td>\n",
       "      <td>I live in my own house</td>\n",
       "      <td>0.0</td>\n",
       "      <td>0.0</td>\n",
       "      <td>£ 43 200 up to less than £ 57 600</td>\n",
       "      <td>Honda</td>\n",
       "      <td>2-3 times</td>\n",
       "      <td>...</td>\n",
       "      <td>0.0</td>\n",
       "      <td>1.0</td>\n",
       "      <td>0.0</td>\n",
       "      <td>0.0</td>\n",
       "      <td>-99</td>\n",
       "      <td>0.0</td>\n",
       "      <td>0.0</td>\n",
       "      <td>0.0</td>\n",
       "      <td>0.0</td>\n",
       "      <td>0.0</td>\n",
       "    </tr>\n",
       "    <tr>\n",
       "      <th>3</th>\n",
       "      <td>2 children</td>\n",
       "      <td>1.0</td>\n",
       "      <td>25 - 34 years</td>\n",
       "      <td>0.0</td>\n",
       "      <td>I live in a rented house</td>\n",
       "      <td>0.0</td>\n",
       "      <td>1.0</td>\n",
       "      <td>£ 19 200 up to less than £ 22 800</td>\n",
       "      <td>Škoda</td>\n",
       "      <td>2-3 times</td>\n",
       "      <td>...</td>\n",
       "      <td>-99.0</td>\n",
       "      <td>-99.0</td>\n",
       "      <td>-99.0</td>\n",
       "      <td>-99.0</td>\n",
       "      <td>I do not work in the public sector</td>\n",
       "      <td>0.0</td>\n",
       "      <td>0.0</td>\n",
       "      <td>0.0</td>\n",
       "      <td>0.0</td>\n",
       "      <td>0.0</td>\n",
       "    </tr>\n",
       "    <tr>\n",
       "      <th>4</th>\n",
       "      <td>no children</td>\n",
       "      <td>1.0</td>\n",
       "      <td>25 - 34 years</td>\n",
       "      <td>0.0</td>\n",
       "      <td>I live in a rented apartment</td>\n",
       "      <td>0.0</td>\n",
       "      <td>0.0</td>\n",
       "      <td>£ 22 800 up to less than £ 31 200</td>\n",
       "      <td>Hyundai</td>\n",
       "      <td>2-3 times</td>\n",
       "      <td>...</td>\n",
       "      <td>-99.0</td>\n",
       "      <td>-99.0</td>\n",
       "      <td>-99.0</td>\n",
       "      <td>-99.0</td>\n",
       "      <td>I do not work in the public sector</td>\n",
       "      <td>0.0</td>\n",
       "      <td>0.0</td>\n",
       "      <td>0.0</td>\n",
       "      <td>0.0</td>\n",
       "      <td>0.0</td>\n",
       "    </tr>\n",
       "  </tbody>\n",
       "</table>\n",
       "<p>5 rows × 437 columns</p>\n",
       "</div>"
      ],
      "text/plain": [
       "  v9915_demo_children  wave v0013_demo_agecat  v0154_etra_travelbookings#1  \\\n",
       "0         no children   1.0     55 - 64 years                          0.0   \n",
       "1         no children   1.0     35 - 44 years                          1.0   \n",
       "2         no children   2.0     45 - 54 years                          0.0   \n",
       "3          2 children   1.0     25 - 34 years                          0.0   \n",
       "4         no children   1.0     25 - 34 years                          0.0   \n",
       "\n",
       "              v9917_demo_rental  v0157_etra_brandsflights#2  \\\n",
       "0        I live in my own house                       -99.0   \n",
       "1      I live in a rented house                       -99.0   \n",
       "2        I live in my own house                         0.0   \n",
       "3      I live in a rented house                         0.0   \n",
       "4  I live in a rented apartment                         0.0   \n",
       "\n",
       "   v9992_demo_migration#1              v9990_demo_income2gbr  \\\n",
       "0                     0.0  £ 43 200 up to less than £ 57 600   \n",
       "1                     0.0  £ 31 200 up to less than £ 43 200   \n",
       "2                     0.0  £ 43 200 up to less than £ 57 600   \n",
       "3                     1.0  £ 19 200 up to less than £ 22 800   \n",
       "4                     0.0  £ 22 800 up to less than £ 31 200   \n",
       "\n",
       "  v0553_mobi_brandcar v0151_etra_frequencytravel1  ... GV_339#7  GV_339#8  \\\n",
       "0               -99.0                   2-3 times  ...    -99.0     -99.0   \n",
       "1             Peugeot                        once  ...    -99.0     -99.0   \n",
       "2               Honda                   2-3 times  ...      0.0       1.0   \n",
       "3               Škoda                   2-3 times  ...    -99.0     -99.0   \n",
       "4             Hyundai                   2-3 times  ...    -99.0     -99.0   \n",
       "\n",
       "  GV_339#9 GV_339#9999                              GV_401  GV_559#1 GV_559#2  \\\n",
       "0    -99.0       -99.0                                 -99       0.0      0.0   \n",
       "1    -99.0       -99.0                               other       0.0      0.0   \n",
       "2      0.0         0.0                                 -99       0.0      0.0   \n",
       "3    -99.0       -99.0  I do not work in the public sector       0.0      0.0   \n",
       "4    -99.0       -99.0  I do not work in the public sector       0.0      0.0   \n",
       "\n",
       "  GV_559#3 GV_559#4 GV_559#5  \n",
       "0      0.0      0.0      0.0  \n",
       "1      0.0      0.0      0.0  \n",
       "2      0.0      0.0      0.0  \n",
       "3      0.0      0.0      0.0  \n",
       "4      0.0      0.0      0.0  \n",
       "\n",
       "[5 rows x 437 columns]"
      ]
     },
     "execution_count": 10,
     "metadata": {},
     "output_type": "execute_result"
    }
   ],
   "source": [
    "df_travsurv.head()"
   ]
  },
  {
   "cell_type": "markdown",
   "id": "c4222645",
   "metadata": {},
   "source": [
    "### Data Cleaning"
   ]
  },
  {
   "cell_type": "code",
   "execution_count": 11,
   "id": "f86aba58",
   "metadata": {},
   "outputs": [],
   "source": [
    "non_num_cols = []\n",
    "for col in df_travsurv.columns:\n",
    "    if df_travsurv[col].dtype != 'float64':\n",
    "        non_num_cols.append(col)"
   ]
  },
  {
   "cell_type": "code",
   "execution_count": 12,
   "id": "c9f8c648",
   "metadata": {},
   "outputs": [
    {
     "data": {
      "text/plain": [
       "49"
      ]
     },
     "execution_count": 12,
     "metadata": {},
     "output_type": "execute_result"
    }
   ],
   "source": [
    "len(non_num_cols) #49 non-numeric cols"
   ]
  },
  {
   "cell_type": "markdown",
   "id": "1ea5d465",
   "metadata": {},
   "source": [
    "### Convert important non-numeric variables to numeric"
   ]
  },
  {
   "cell_type": "markdown",
   "id": "77eab0d9",
   "metadata": {},
   "source": [
    "#### Children"
   ]
  },
  {
   "cell_type": "code",
   "execution_count": 13,
   "id": "3d5fca6f",
   "metadata": {},
   "outputs": [
    {
     "data": {
      "text/plain": [
       "array(['no children', '2 children', '1 child', '3 children', '4 children',\n",
       "       '5 or more children'], dtype=object)"
      ]
     },
     "execution_count": 13,
     "metadata": {},
     "output_type": "execute_result"
    }
   ],
   "source": [
    "df_travsurv['v9915_demo_children'].unique()"
   ]
  },
  {
   "cell_type": "code",
   "execution_count": 14,
   "id": "c9cdfcec",
   "metadata": {},
   "outputs": [],
   "source": [
    "children_data = [['no children', 0], ['2 children', 2], ['1 child', 1], ['3 children', 3], ['4 children', 4], ['5 or more children', 5]]\n",
    "children_df = pd.DataFrame(children_data).rename(columns={0: \"v9915_demo_children\", 1: \"v9915_demo_children_num\"})\n",
    "df_travsurv = df_travsurv.merge(children_df)\n",
    "df_travsurv['v9915_demo_children_num'] = df_travsurv['v9915_demo_children_num'].astype(float)"
   ]
  },
  {
   "cell_type": "markdown",
   "id": "f41c1af1",
   "metadata": {},
   "source": [
    "#### Age"
   ]
  },
  {
   "cell_type": "code",
   "execution_count": 15,
   "id": "519ee05c",
   "metadata": {},
   "outputs": [
    {
     "data": {
      "text/plain": [
       "array(['55 - 64 years', '35 - 44 years', '45 - 54 years', '25 - 34 years',\n",
       "       '18 - 24 years'], dtype=object)"
      ]
     },
     "execution_count": 15,
     "metadata": {},
     "output_type": "execute_result"
    }
   ],
   "source": [
    "df_travsurv[\"v0013_demo_agecat\"].unique()"
   ]
  },
  {
   "cell_type": "code",
   "execution_count": 16,
   "id": "ca318efc",
   "metadata": {},
   "outputs": [],
   "source": [
    "df_travsurv[\"v0013_demo_agecat_num\"] = df_travsurv[\"v0013_demo_agecat\"].apply(lambda x: float(x[:2]))"
   ]
  },
  {
   "cell_type": "markdown",
   "id": "e3371772",
   "metadata": {},
   "source": [
    "#### Income"
   ]
  },
  {
   "cell_type": "code",
   "execution_count": 17,
   "id": "921be67e",
   "metadata": {},
   "outputs": [
    {
     "data": {
      "text/plain": [
       "array(['£ 43 200 up to less than £ 57 600',\n",
       "       '£ 31 200 up to less than £ 43 200',\n",
       "       '£ 22 800 up to less than £ 31 200',\n",
       "       '£ 57 600 up to less than £ 76 800',\n",
       "       '£ 76 800 up to less than £ 98 400', 'prefer not to say',\n",
       "       '£ 98 400 up to less than £ 123 600',\n",
       "       '£ 15 600 up to less than £ 19 200', 'less than £ 15 600',\n",
       "       'more than £ 123 600', '£ 19 200 up to less than £ 22 800'],\n",
       "      dtype=object)"
      ]
     },
     "execution_count": 17,
     "metadata": {},
     "output_type": "execute_result"
    }
   ],
   "source": [
    "df_travsurv['v9990_demo_income2gbr'].unique()"
   ]
  },
  {
   "cell_type": "code",
   "execution_count": 18,
   "id": "daa29683",
   "metadata": {},
   "outputs": [],
   "source": [
    "df_travsurv['v9990_demo_income2gbr_num'] = np.where(df_travsurv['v9990_demo_income2gbr'] == 'less than £ 15 600','  0',df_travsurv['v9990_demo_income2gbr'])"
   ]
  },
  {
   "cell_type": "code",
   "execution_count": 19,
   "id": "7912e011",
   "metadata": {},
   "outputs": [],
   "source": [
    "df_travsurv['v9990_demo_income2gbr_num'] = np.where(df_travsurv['v9990_demo_income2gbr_num'] == 'more than £ 123 600','  123',df_travsurv['v9990_demo_income2gbr_num'])"
   ]
  },
  {
   "cell_type": "code",
   "execution_count": 20,
   "id": "a2b60163",
   "metadata": {},
   "outputs": [],
   "source": [
    "df_travsurv[\"v9990_demo_income2gbr_num\"] = df_travsurv[\"v9990_demo_income2gbr_num\"].apply(lambda x: x[2:5].replace(' ',''))"
   ]
  },
  {
   "cell_type": "code",
   "execution_count": 21,
   "id": "cc6078bf",
   "metadata": {},
   "outputs": [],
   "source": [
    "nums = [int(i) for i in df_travsurv[\"v9990_demo_income2gbr_num\"].unique()[df_travsurv[\"v9990_demo_income2gbr_num\"].unique() != 'efe']]"
   ]
  },
  {
   "cell_type": "code",
   "execution_count": 22,
   "id": "9f67ba22",
   "metadata": {},
   "outputs": [],
   "source": [
    "avg_inc =sum(nums)/len(nums)"
   ]
  },
  {
   "cell_type": "code",
   "execution_count": 23,
   "id": "27c0a54d",
   "metadata": {},
   "outputs": [],
   "source": [
    "df_travsurv[\"v9990_demo_income2gbr_num\"] = np.where(df_travsurv[\"v9990_demo_income2gbr_num\"] == 'efe', avg_inc, df_travsurv[\"v9990_demo_income2gbr_num\"])"
   ]
  },
  {
   "cell_type": "code",
   "execution_count": 24,
   "id": "1d41e4db",
   "metadata": {},
   "outputs": [],
   "source": [
    "df_travsurv['v9990_demo_income2gbr_num'] = df_travsurv['v9990_demo_income2gbr_num'].astype(float)"
   ]
  },
  {
   "cell_type": "markdown",
   "id": "d1e17780",
   "metadata": {},
   "source": [
    "#### Update non-num cols "
   ]
  },
  {
   "cell_type": "code",
   "execution_count": 25,
   "id": "4b8e4a39",
   "metadata": {},
   "outputs": [],
   "source": [
    "num_cols = []\n",
    "for col in df_travsurv.columns:\n",
    "    if df_travsurv[col].dtype == 'float64':\n",
    "        num_cols.append(col)\n",
    "        \n",
    "df_travsurv_num = df_travsurv[num_cols]"
   ]
  },
  {
   "cell_type": "markdown",
   "id": "90d2f451",
   "metadata": {},
   "source": [
    "## Clustering (K-Means)"
   ]
  },
  {
   "cell_type": "markdown",
   "id": "ef911c0d",
   "metadata": {},
   "source": [
    "### What is the optimal number of clusters? (Ans: 2-3)"
   ]
  },
  {
   "cell_type": "code",
   "execution_count": 26,
   "id": "8ba985a0",
   "metadata": {},
   "outputs": [],
   "source": [
    "min_max_scaler = MinMaxScaler()"
   ]
  },
  {
   "cell_type": "code",
   "execution_count": 27,
   "id": "6ca935b5",
   "metadata": {
    "scrolled": false
   },
   "outputs": [
    {
     "data": {
      "image/png": "[encoded data removed]",
      "text/plain": [
       "<Figure size 1152x576 with 1 Axes>"
      ]
     },
     "metadata": {
      "needs_background": "light"
     },
     "output_type": "display_data"
    }
   ],
   "source": [
    "kmeans_df = df_travsurv_num.drop(['wave'],axis=1)\n",
    "kmeans_df = min_max_scaler.fit_transform(kmeans_df)\n",
    "\n",
    "distortions = []\n",
    "K = range(1,10)\n",
    "for k in K:\n",
    "    kmeanModel = KMeans(n_clusters=k)\n",
    "    kmeanModel.fit(kmeans_df) #df.drop(['B', 'C'], axis=1)\n",
    "    distortions.append(kmeanModel.inertia_)\n",
    "\n",
    "plt.figure(figsize=(16,8))\n",
    "plt.plot(K, distortions, 'bx-')\n",
    "plt.xlabel('k')\n",
    "plt.ylabel('Distortion')\n",
    "plt.title('The Elbow Method showing the optimal k')\n",
    "plt.show()"
   ]
  },
  {
   "cell_type": "markdown",
   "id": "54852792",
   "metadata": {},
   "source": [
    "### Is the optimal number of clusters the same for both waves? (Ans: Yes)"
   ]
  },
  {
   "cell_type": "code",
   "execution_count": 28,
   "id": "87ac94c9",
   "metadata": {},
   "outputs": [],
   "source": [
    "df_travsurv_num_w1 = df_travsurv_num.loc[df_travsurv_num['wave']==1.0].reset_index()\n",
    "df_travsurv_num_w2 = df_travsurv_num.loc[df_travsurv_num['wave']==2.0].reset_index()\n",
    "\n",
    "kmeans_df_w1 = min_max_scaler.fit_transform(df_travsurv_num_w1)\n",
    "kmeans_df_w2 = min_max_scaler.fit_transform(df_travsurv_num_w2)\n"
   ]
  },
  {
   "cell_type": "code",
   "execution_count": 29,
   "id": "5d54a758",
   "metadata": {},
   "outputs": [
    {
     "name": "stderr",
     "output_type": "stream",
     "text": [
      "C:\\Users\\ClaireKelleher\\anaconda3\\lib\\site-packages\\sklearn\\cluster\\_kmeans.py:881: UserWarning: KMeans is known to have a memory leak on Windows with MKL, when there are less chunks than available threads. You can avoid it by setting the environment variable OMP_NUM_THREADS=5.\n",
      "  warnings.warn(\n",
      "C:\\Users\\ClaireKelleher\\anaconda3\\lib\\site-packages\\sklearn\\cluster\\_kmeans.py:881: UserWarning: KMeans is known to have a memory leak on Windows with MKL, when there are less chunks than available threads. You can avoid it by setting the environment variable OMP_NUM_THREADS=5.\n",
      "  warnings.warn(\n"
     ]
    },
    {
     "data": {
      "image/png": "[encoded data removed]",
      "text/plain": [
       "<Figure size 1152x576 with 1 Axes>"
      ]
     },
     "metadata": {
      "needs_background": "light"
     },
     "output_type": "display_data"
    }
   ],
   "source": [
    "\n",
    "distortions_w1 = []\n",
    "K = range(1,10)\n",
    "for k in K:\n",
    "    kmeanModel = KMeans(n_clusters=k)\n",
    "    kmeanModel.fit(kmeans_df_w1)\n",
    "    distortions_w1.append(kmeanModel.inertia_)\n",
    "\n",
    "distortions_w2 = []\n",
    "K = range(1,10)\n",
    "for k in K:\n",
    "    kmeanModel = KMeans(n_clusters=k)\n",
    "    kmeanModel.fit(kmeans_df_w2)\n",
    "    distortions_w2.append(kmeanModel.inertia_)    \n",
    "\n",
    "\n",
    "plt.figure(figsize=(16,8))\n",
    "plt.plot(K, distortions_w1, 'bx-')\n",
    "plt.plot(K, distortions_w2, 'rx-')\n",
    "plt.xlabel('k')\n",
    "plt.ylabel('Distortion')\n",
    "plt.title('The Elbow Method showing the optimal k')\n",
    "plt.legend([\"wave 1\", \"wave 2\"], loc =\"upper right\", prop={'size': 6})\n",
    "plt.show()"
   ]
  },
  {
   "cell_type": "markdown",
   "id": "09af9190",
   "metadata": {},
   "source": [
    "### What features most distinctively create clusters? Does this change by wave?\n",
    "\n",
    "Using the top 5 questions that the clusters were built on, both waves have built their clusters on relaively health based questions.\n",
    "\n",
    "Both waves top distinguishing questions included\n",
    "- Smoking\n",
    "- Gambling\n",
    "- Video Games\n",
    "\n"
   ]
  },
  {
   "cell_type": "code",
   "execution_count": 30,
   "id": "38155dcc",
   "metadata": {},
   "outputs": [],
   "source": [
    "optimal_k = 3"
   ]
  },
  {
   "cell_type": "code",
   "execution_count": 31,
   "id": "6a39fdad",
   "metadata": {},
   "outputs": [],
   "source": [
    "#W1\n",
    "kmeanModel = KMeans(n_clusters=optimal_k)\n",
    "kmeanModel.fit(kmeans_df_w1)\n",
    "\n",
    "kmeans_df_w1 = pd.DataFrame(kmeans_df_w1)\n",
    "kmeans_df_w1.columns = df_travsurv_num_w1.columns\n",
    "kmeans_df_w1['cluster'] = pd.Series(kmeanModel.labels_)\n",
    "\n",
    "kmeans_df_w1_res = pd.DataFrame(kmeans_df_w1.corr()['cluster']).reset_index() #unsorted\n",
    "kmeans_df_w1_res = kmeans_df_w1_res.rename(columns={'cluster':'corr'})\n",
    "kmeans_df_w1_res = kmeans_df_w1_res[(kmeans_df_w1_res['index'] != 'cluster') & (kmeans_df_w1_res['index'] != 'wave')]\n",
    "\n",
    "kmeans_df_w1_res = kmeans_df_w1_res.sort_values(by='corr', key=abs, ascending=False)\n",
    "\n",
    "kmeans_df_w1_res['ques'] = kmeans_df_w1_res['index'].apply(lambda x: x.split('#')[0])\n",
    "kmeans_df_w1_res = kmeans_df_w1_res.rename(columns={'index':'answer'})\n",
    "\n",
    "dist_qs_w1 = kmeans_df_w1_res['ques'].drop_duplicates().head()\n"
   ]
  },
  {
   "cell_type": "code",
   "execution_count": 32,
   "id": "f591df62",
   "metadata": {},
   "outputs": [
    {
     "data": {
      "text/plain": [
       "1    638\n",
       "0    223\n",
       "2    188\n",
       "Name: cluster, dtype: int64"
      ]
     },
     "execution_count": 32,
     "metadata": {},
     "output_type": "execute_result"
    }
   ],
   "source": [
    "kmeans_df_w1['cluster'].value_counts()"
   ]
  },
  {
   "cell_type": "code",
   "execution_count": 33,
   "id": "caf16006",
   "metadata": {},
   "outputs": [],
   "source": [
    "#W2\n",
    "kmeanModel = KMeans(n_clusters=optimal_k)\n",
    "kmeanModel.fit(kmeans_df_w2)\n",
    "\n",
    "kmeans_df_w2 = pd.DataFrame(kmeans_df_w2)\n",
    "kmeans_df_w2.columns = df_travsurv_num_w2.columns\n",
    "kmeans_df_w2['cluster'] = pd.Series(kmeanModel.labels_)\n",
    "\n",
    "kmeans_df_w2_res = pd.DataFrame(kmeans_df_w2.corr()['cluster']).reset_index() #unsorted\n",
    "kmeans_df_w2_res = kmeans_df_w2_res.rename(columns={'cluster':'corr'})\n",
    "kmeans_df_w2_res = kmeans_df_w2_res[(kmeans_df_w2_res['index'] != 'cluster') & (kmeans_df_w2_res['index'] != 'wave')]\n",
    "\n",
    "kmeans_df_w2_res = kmeans_df_w2_res.sort_values(by='corr', key=abs, ascending=False)\n",
    "\n",
    "kmeans_df_w2_res['ques'] = kmeans_df_w2_res['index'].apply(lambda x: x.split('#')[0])\n",
    "kmeans_df_w2_res = kmeans_df_w2_res.rename(columns={'index':'answer'})\n",
    "\n",
    "dist_qs_w2 = kmeans_df_w2_res['ques'].drop_duplicates().head() #distinct question labels "
   ]
  },
  {
   "cell_type": "code",
   "execution_count": 34,
   "id": "f6231f4a",
   "metadata": {},
   "outputs": [
    {
     "data": {
      "text/plain": [
       "1    448\n",
       "2    313\n",
       "0    286\n",
       "Name: cluster, dtype: int64"
      ]
     },
     "execution_count": 34,
     "metadata": {},
     "output_type": "execute_result"
    }
   ],
   "source": [
    "kmeans_df_w2['cluster'].value_counts()"
   ]
  },
  {
   "cell_type": "markdown",
   "id": "61d5c3d0",
   "metadata": {},
   "source": [
    "### What are the demograhics of each cluster?"
   ]
  },
  {
   "cell_type": "code",
   "execution_count": 35,
   "id": "b8427192",
   "metadata": {},
   "outputs": [],
   "source": [
    "kmeans_df_w1.groupby('cluster').mean()[['v0013_demo_agecat_num'\n",
    "                                        ,'v9990_demo_income2gbr_num'\n",
    "                                        ,'v9915_demo_children_num'\n",
    "                                        ,'v0049_life_devicesinternet#1'\n",
    "                                        , 'v9930c_life_values#1']].to_csv('kmeans_df_w1_clusters_demo.csv')"
   ]
  },
  {
   "cell_type": "code",
   "execution_count": 36,
   "id": "b8c8ce95",
   "metadata": {},
   "outputs": [],
   "source": [
    "kmeans_df_w2.groupby('cluster').mean()[['v0013_demo_agecat_num'\n",
    "                                        ,'v9990_demo_income2gbr_num'\n",
    "                                        ,'v9915_demo_children_num'\n",
    "                                        ,'v0049_life_devicesinternet#1'\n",
    "                                        , 'v9930c_life_values#1']].to_csv('kmeans_df_w2_clusters_demo.csv')"
   ]
  },
  {
   "cell_type": "code",
   "execution_count": 37,
   "id": "3acd3014",
   "metadata": {},
   "outputs": [],
   "source": [
    "ans_ques_w1 = kmeans_df_w1_res[kmeans_df_w1_res.index.isin(dist_qs_w1.index)]\n",
    "ans_ques_w1['wave'] = 1\n",
    "ans_ques_w2 = kmeans_df_w2_res[kmeans_df_w2_res.index.isin(dist_qs_w2.index)]\n",
    "ans_ques_w2['wave'] = 2\n",
    "ques_ans_kmeans = ans_ques_w1.append(ans_ques_w2)"
   ]
  },
  {
   "cell_type": "code",
   "execution_count": 38,
   "id": "7257ec3f",
   "metadata": {},
   "outputs": [],
   "source": [
    "\n",
    "ques_ans_kmeans = ques_ans_kmeans.merge(answers_df,left_on='answer',right_on='ID_label').drop(columns=['ID_label'])\n",
    "ques_ans_kmeans = ques_ans_kmeans.merge(ques_df,left_on='ques',right_on='ID_label', how='inner')\n",
    "ques_ans_kmeans.to_csv('ques_titles_kmeans.csv')\n",
    "\n",
    "kmeans_df_w1.groupby('cluster').mean()[ques_ans_kmeans['answer']].to_csv('kmeans_df_w1_clusters.csv')\n",
    "kmeans_df_w2.groupby('cluster').mean()[ques_ans_kmeans['answer']].to_csv('kmeans_df_w2_clusters.csv')\n"
   ]
  },
  {
   "cell_type": "code",
   "execution_count": 39,
   "id": "540ea4ae",
   "metadata": {},
   "outputs": [
    {
     "data": {
      "text/html": [
       "<div>\n",
       "<style scoped>\n",
       "    .dataframe tbody tr th:only-of-type {\n",
       "        vertical-align: middle;\n",
       "    }\n",
       "\n",
       "    .dataframe tbody tr th {\n",
       "        vertical-align: top;\n",
       "    }\n",
       "\n",
       "    .dataframe thead th {\n",
       "        text-align: right;\n",
       "    }\n",
       "</style>\n",
       "<table border=\"1\" class=\"dataframe\">\n",
       "  <thead>\n",
       "    <tr style=\"text-align: right;\">\n",
       "      <th></th>\n",
       "      <th>answer</th>\n",
       "      <th>corr</th>\n",
       "      <th>ques</th>\n",
       "      <th>wave</th>\n",
       "      <th>Answer_options</th>\n",
       "      <th>ID_label</th>\n",
       "      <th>Question</th>\n",
       "    </tr>\n",
       "  </thead>\n",
       "  <tbody>\n",
       "    <tr>\n",
       "      <th>0</th>\n",
       "      <td>GV_133#100</td>\n",
       "      <td>-0.637791</td>\n",
       "      <td>GV_133</td>\n",
       "      <td>1</td>\n",
       "      <td>prefer not to say</td>\n",
       "      <td>GV_133</td>\n",
       "      <td>\"Which of the following countries/regions have you travelled to in the last 12 months?\"</td>\n",
       "    </tr>\n",
       "    <tr>\n",
       "      <th>1</th>\n",
       "      <td>GV_133#8</td>\n",
       "      <td>-0.552034</td>\n",
       "      <td>GV_133</td>\n",
       "      <td>2</td>\n",
       "      <td>east European countries (not Russia)</td>\n",
       "      <td>GV_133</td>\n",
       "      <td>\"Which of the following countries/regions have you travelled to in the last 12 months?\"</td>\n",
       "    </tr>\n",
       "    <tr>\n",
       "      <th>2</th>\n",
       "      <td>GV_198#4</td>\n",
       "      <td>-0.596053</td>\n",
       "      <td>GV_198</td>\n",
       "      <td>1</td>\n",
       "      <td>basketball</td>\n",
       "      <td>GV_198</td>\n",
       "      <td>\"What sports do you regularly participate in?\"</td>\n",
       "    </tr>\n",
       "    <tr>\n",
       "      <th>3</th>\n",
       "      <td>GV_198#13</td>\n",
       "      <td>-0.651812</td>\n",
       "      <td>GV_198</td>\n",
       "      <td>2</td>\n",
       "      <td>hiking</td>\n",
       "      <td>GV_198</td>\n",
       "      <td>\"What sports do you regularly participate in?\"</td>\n",
       "    </tr>\n",
       "    <tr>\n",
       "      <th>4</th>\n",
       "      <td>GV_163#4</td>\n",
       "      <td>-0.557311</td>\n",
       "      <td>GV_163</td>\n",
       "      <td>1</td>\n",
       "      <td>financial department (acco. software, corporate CC)</td>\n",
       "      <td>GV_163</td>\n",
       "      <td>\"Please choose which departments/products you have influence or decision making authority on spending/purchasing\"</td>\n",
       "    </tr>\n",
       "    <tr>\n",
       "      <th>5</th>\n",
       "      <td>GV_163#99</td>\n",
       "      <td>-0.530262</td>\n",
       "      <td>GV_163</td>\n",
       "      <td>2</td>\n",
       "      <td>prefer not to say</td>\n",
       "      <td>GV_163</td>\n",
       "      <td>\"Please choose which departments/products you have influence or decision making authority on spending/purchasing\"</td>\n",
       "    </tr>\n",
       "    <tr>\n",
       "      <th>6</th>\n",
       "      <td>GV_132#1</td>\n",
       "      <td>-0.525498</td>\n",
       "      <td>GV_132</td>\n",
       "      <td>1</td>\n",
       "      <td>all inclusive resort</td>\n",
       "      <td>GV_132</td>\n",
       "      <td>\"Which of the following types of vacation/holidays do you usually go on?\"</td>\n",
       "    </tr>\n",
       "    <tr>\n",
       "      <th>7</th>\n",
       "      <td>GV_132#3</td>\n",
       "      <td>-0.462917</td>\n",
       "      <td>GV_132</td>\n",
       "      <td>2</td>\n",
       "      <td>camping/caravanning</td>\n",
       "      <td>GV_132</td>\n",
       "      <td>\"Which of the following types of vacation/holidays do you usually go on?\"</td>\n",
       "    </tr>\n",
       "    <tr>\n",
       "      <th>8</th>\n",
       "      <td>GV_14#27</td>\n",
       "      <td>-0.443162</td>\n",
       "      <td>GV_14</td>\n",
       "      <td>1</td>\n",
       "      <td>2010</td>\n",
       "      <td>GV_14</td>\n",
       "      <td>\"When were your children born?\"</td>\n",
       "    </tr>\n",
       "    <tr>\n",
       "      <th>9</th>\n",
       "      <td>GV_230#29</td>\n",
       "      <td>-0.699553</td>\n",
       "      <td>GV_230</td>\n",
       "      <td>2</td>\n",
       "      <td>women's magazines</td>\n",
       "      <td>GV_230</td>\n",
       "      <td>\"Which types of publications do you read?\"</td>\n",
       "    </tr>\n",
       "  </tbody>\n",
       "</table>\n",
       "</div>"
      ],
      "text/plain": [
       "       answer      corr    ques  wave  \\\n",
       "0  GV_133#100 -0.637791  GV_133     1   \n",
       "1    GV_133#8 -0.552034  GV_133     2   \n",
       "2    GV_198#4 -0.596053  GV_198     1   \n",
       "3   GV_198#13 -0.651812  GV_198     2   \n",
       "4    GV_163#4 -0.557311  GV_163     1   \n",
       "5   GV_163#99 -0.530262  GV_163     2   \n",
       "6    GV_132#1 -0.525498  GV_132     1   \n",
       "7    GV_132#3 -0.462917  GV_132     2   \n",
       "8    GV_14#27 -0.443162   GV_14     1   \n",
       "9   GV_230#29 -0.699553  GV_230     2   \n",
       "\n",
       "                                        Answer_options ID_label  \\\n",
       "0                                    prefer not to say   GV_133   \n",
       "1                 east European countries (not Russia)   GV_133   \n",
       "2                                           basketball   GV_198   \n",
       "3                                               hiking   GV_198   \n",
       "4  financial department (acco. software, corporate CC)   GV_163   \n",
       "5                                    prefer not to say   GV_163   \n",
       "6                                 all inclusive resort   GV_132   \n",
       "7                                  camping/caravanning   GV_132   \n",
       "8                                                 2010    GV_14   \n",
       "9                                    women's magazines   GV_230   \n",
       "\n",
       "                                                                                                            Question  \n",
       "0                            \"Which of the following countries/regions have you travelled to in the last 12 months?\"  \n",
       "1                            \"Which of the following countries/regions have you travelled to in the last 12 months?\"  \n",
       "2                                                                     \"What sports do you regularly participate in?\"  \n",
       "3                                                                     \"What sports do you regularly participate in?\"  \n",
       "4  \"Please choose which departments/products you have influence or decision making authority on spending/purchasing\"  \n",
       "5  \"Please choose which departments/products you have influence or decision making authority on spending/purchasing\"  \n",
       "6                                          \"Which of the following types of vacation/holidays do you usually go on?\"  \n",
       "7                                          \"Which of the following types of vacation/holidays do you usually go on?\"  \n",
       "8                                                                                    \"When were your children born?\"  \n",
       "9                                                                         \"Which types of publications do you read?\"  "
      ]
     },
     "execution_count": 39,
     "metadata": {},
     "output_type": "execute_result"
    }
   ],
   "source": [
    "ques_ans_kmeans"
   ]
  },
  {
   "cell_type": "markdown",
   "id": "8828975f",
   "metadata": {},
   "source": [
    "### Both waves "
   ]
  },
  {
   "cell_type": "code",
   "execution_count": 40,
   "id": "2aa8d09d",
   "metadata": {},
   "outputs": [],
   "source": [
    "kmeans_df = df_travsurv_num.drop(['wave'],axis=1)\n",
    "kmeans_df = min_max_scaler.fit_transform(kmeans_df)\n",
    "\n",
    "kmeanModel = KMeans(n_clusters=optimal_k)\n",
    "kmeanModel.fit(kmeans_df)\n",
    "\n",
    "kmeans_df = pd.DataFrame(kmeans_df)\n",
    "kmeans_df.columns = df_travsurv_num.drop(['wave'],axis=1).columns\n",
    "kmeans_df['cluster'] = pd.Series(kmeanModel.labels_)"
   ]
  },
  {
   "cell_type": "code",
   "execution_count": 41,
   "id": "dd253a64",
   "metadata": {},
   "outputs": [],
   "source": [
    "kmeans_df_res = pd.DataFrame(kmeans_df.corr()['cluster']).reset_index() #unsorted\n",
    "kmeans_df_res = kmeans_df_res.rename(columns={'cluster':'corr'})\n",
    "kmeans_df_res = kmeans_df_res[(kmeans_df_res['index'] != 'cluster') & (kmeans_df_res['index'] != 'wave')]\n",
    "kmeans_df_res = kmeans_df_res.sort_values(by='corr', key=abs, ascending=False) #sorted by abs corr\n",
    "kmeans_df_res['ques'] = kmeans_df_res['index'].apply(lambda x: x.split('#')[0])\n",
    "kmeans_df_res = kmeans_df_res.rename(columns={'index':'answer'})\n",
    "dist_qs_bothw = kmeans_df_res['ques'].drop_duplicates().head(10)"
   ]
  },
  {
   "cell_type": "code",
   "execution_count": 42,
   "id": "7cf8fbd6",
   "metadata": {},
   "outputs": [],
   "source": [
    "ques_ans_kmeans_bw = kmeans_df_res[kmeans_df_res.index.isin(dist_qs_bothw.index)]\n",
    "ques_ans_kmeans_bw = ques_ans_kmeans_bw.merge(answers_df,left_on='answer',right_on='ID_label').drop(columns=['ID_label'])\n",
    "ques_ans_kmeans_bw = ques_ans_kmeans_bw.merge(ques_df,left_on='ques',right_on='ID_label', how='inner')"
   ]
  },
  {
   "cell_type": "code",
   "execution_count": 43,
   "id": "ab704b34",
   "metadata": {},
   "outputs": [
    {
     "data": {
      "text/html": [
       "<div>\n",
       "<style scoped>\n",
       "    .dataframe tbody tr th:only-of-type {\n",
       "        vertical-align: middle;\n",
       "    }\n",
       "\n",
       "    .dataframe tbody tr th {\n",
       "        vertical-align: top;\n",
       "    }\n",
       "\n",
       "    .dataframe thead th {\n",
       "        text-align: right;\n",
       "    }\n",
       "</style>\n",
       "<table border=\"1\" class=\"dataframe\">\n",
       "  <thead>\n",
       "    <tr style=\"text-align: right;\">\n",
       "      <th></th>\n",
       "      <th>answer</th>\n",
       "      <th>corr</th>\n",
       "      <th>ques</th>\n",
       "      <th>Answer_options</th>\n",
       "      <th>ID_label</th>\n",
       "      <th>Question</th>\n",
       "    </tr>\n",
       "  </thead>\n",
       "  <tbody>\n",
       "    <tr>\n",
       "      <th>0</th>\n",
       "      <td>GV_181#1</td>\n",
       "      <td>-0.866266</td>\n",
       "      <td>GV_181</td>\n",
       "      <td>I don't smoke cigarettes</td>\n",
       "      <td>GV_181</td>\n",
       "      <td>\"What brand of cigarettes do you smoke?\"</td>\n",
       "    </tr>\n",
       "    <tr>\n",
       "      <th>1</th>\n",
       "      <td>GV_174#9999</td>\n",
       "      <td>-0.736103</td>\n",
       "      <td>GV_174</td>\n",
       "      <td>None</td>\n",
       "      <td>GV_174</td>\n",
       "      <td>\"Which fast food (quick service) restaurants do you go to, if any?\"</td>\n",
       "    </tr>\n",
       "    <tr>\n",
       "      <th>2</th>\n",
       "      <td>GV_183#100</td>\n",
       "      <td>-0.660005</td>\n",
       "      <td>GV_183</td>\n",
       "      <td>I don't smoke / haven't tried to quit</td>\n",
       "      <td>GV_183</td>\n",
       "      <td>\"Have you tried to quit smoking using any of these products/methods?\"</td>\n",
       "    </tr>\n",
       "    <tr>\n",
       "      <th>3</th>\n",
       "      <td>GV_31#4</td>\n",
       "      <td>-0.533699</td>\n",
       "      <td>GV_31</td>\n",
       "      <td>I don't gamble at all</td>\n",
       "      <td>GV_31</td>\n",
       "      <td>\"What kind of gambling do you participate in?\"</td>\n",
       "    </tr>\n",
       "    <tr>\n",
       "      <th>4</th>\n",
       "      <td>GV_227#99</td>\n",
       "      <td>-0.523355</td>\n",
       "      <td>GV_227</td>\n",
       "      <td>I don't play video/computer games</td>\n",
       "      <td>GV_227</td>\n",
       "      <td>\"How do you play video/computer games?\"</td>\n",
       "    </tr>\n",
       "    <tr>\n",
       "      <th>5</th>\n",
       "      <td>GV_339#9999</td>\n",
       "      <td>-0.505632</td>\n",
       "      <td>GV_339</td>\n",
       "      <td>none of the above</td>\n",
       "      <td>GV_339</td>\n",
       "      <td>\"Do you watch any of these channels on TV?\"</td>\n",
       "    </tr>\n",
       "    <tr>\n",
       "      <th>6</th>\n",
       "      <td>GV_136#99</td>\n",
       "      <td>-0.485362</td>\n",
       "      <td>GV_136</td>\n",
       "      <td>I don't play video/computer games</td>\n",
       "      <td>GV_136</td>\n",
       "      <td>\"Which gaming platforms do you regularly use?\"</td>\n",
       "    </tr>\n",
       "    <tr>\n",
       "      <th>7</th>\n",
       "      <td>GV_132#22</td>\n",
       "      <td>-0.464289</td>\n",
       "      <td>GV_132</td>\n",
       "      <td>none of the above</td>\n",
       "      <td>GV_132</td>\n",
       "      <td>\"Which of the following types of vacation/holidays do you usually go on?\"</td>\n",
       "    </tr>\n",
       "    <tr>\n",
       "      <th>8</th>\n",
       "      <td>GV_133#99</td>\n",
       "      <td>-0.424371</td>\n",
       "      <td>GV_133</td>\n",
       "      <td>have not travelled outside my country in 12 months</td>\n",
       "      <td>GV_133</td>\n",
       "      <td>\"Which of the following countries/regions have you travelled to in the last 12 months?\"</td>\n",
       "    </tr>\n",
       "    <tr>\n",
       "      <th>9</th>\n",
       "      <td>GV_32#5</td>\n",
       "      <td>-0.361714</td>\n",
       "      <td>GV_32</td>\n",
       "      <td>I don’t have pets</td>\n",
       "      <td>GV_32</td>\n",
       "      <td>\"What pets/animals do you keep?\"</td>\n",
       "    </tr>\n",
       "  </tbody>\n",
       "</table>\n",
       "</div>"
      ],
      "text/plain": [
       "        answer      corr    ques  \\\n",
       "0     GV_181#1 -0.866266  GV_181   \n",
       "1  GV_174#9999 -0.736103  GV_174   \n",
       "2   GV_183#100 -0.660005  GV_183   \n",
       "3      GV_31#4 -0.533699   GV_31   \n",
       "4    GV_227#99 -0.523355  GV_227   \n",
       "5  GV_339#9999 -0.505632  GV_339   \n",
       "6    GV_136#99 -0.485362  GV_136   \n",
       "7    GV_132#22 -0.464289  GV_132   \n",
       "8    GV_133#99 -0.424371  GV_133   \n",
       "9      GV_32#5 -0.361714   GV_32   \n",
       "\n",
       "                                       Answer_options ID_label  \\\n",
       "0                            I don't smoke cigarettes   GV_181   \n",
       "1                                                None   GV_174   \n",
       "2               I don't smoke / haven't tried to quit   GV_183   \n",
       "3                               I don't gamble at all    GV_31   \n",
       "4                   I don't play video/computer games   GV_227   \n",
       "5                                   none of the above   GV_339   \n",
       "6                   I don't play video/computer games   GV_136   \n",
       "7                                   none of the above   GV_132   \n",
       "8  have not travelled outside my country in 12 months   GV_133   \n",
       "9                                   I don’t have pets    GV_32   \n",
       "\n",
       "                                                                                  Question  \n",
       "0                                                 \"What brand of cigarettes do you smoke?\"  \n",
       "1                      \"Which fast food (quick service) restaurants do you go to, if any?\"  \n",
       "2                    \"Have you tried to quit smoking using any of these products/methods?\"  \n",
       "3                                           \"What kind of gambling do you participate in?\"  \n",
       "4                                                  \"How do you play video/computer games?\"  \n",
       "5                                              \"Do you watch any of these channels on TV?\"  \n",
       "6                                           \"Which gaming platforms do you regularly use?\"  \n",
       "7                \"Which of the following types of vacation/holidays do you usually go on?\"  \n",
       "8  \"Which of the following countries/regions have you travelled to in the last 12 months?\"  \n",
       "9                                                         \"What pets/animals do you keep?\"  "
      ]
     },
     "execution_count": 43,
     "metadata": {},
     "output_type": "execute_result"
    }
   ],
   "source": [
    "ques_ans_kmeans_bw"
   ]
  },
  {
   "cell_type": "code",
   "execution_count": 44,
   "id": "9bb21e0e",
   "metadata": {},
   "outputs": [],
   "source": [
    "rev_scale = pd.DataFrame(min_max_scaler.inverse_transform(kmeans_df.drop(columns=['cluster'])))\n",
    "rev_scale.columns = df_travsurv_num.drop(['wave'],axis=1).columns\n",
    "rev_scale = rev_scale.merge(kmeans_df['cluster'] ,left_index=True, right_index=True)"
   ]
  },
  {
   "cell_type": "code",
   "execution_count": 45,
   "id": "eb9cca82",
   "metadata": {},
   "outputs": [
    {
     "data": {
      "text/html": [
       "<div>\n",
       "<style scoped>\n",
       "    .dataframe tbody tr th:only-of-type {\n",
       "        vertical-align: middle;\n",
       "    }\n",
       "\n",
       "    .dataframe tbody tr th {\n",
       "        vertical-align: top;\n",
       "    }\n",
       "\n",
       "    .dataframe thead th {\n",
       "        text-align: right;\n",
       "    }\n",
       "</style>\n",
       "<table border=\"1\" class=\"dataframe\">\n",
       "  <thead>\n",
       "    <tr style=\"text-align: right;\">\n",
       "      <th></th>\n",
       "      <th>GV_181#1</th>\n",
       "      <th>GV_174#9999</th>\n",
       "      <th>GV_183#100</th>\n",
       "      <th>GV_31#4</th>\n",
       "      <th>GV_227#99</th>\n",
       "      <th>GV_339#9999</th>\n",
       "      <th>GV_136#99</th>\n",
       "      <th>GV_132#22</th>\n",
       "      <th>GV_133#99</th>\n",
       "      <th>GV_32#5</th>\n",
       "    </tr>\n",
       "    <tr>\n",
       "      <th>cluster</th>\n",
       "      <th></th>\n",
       "      <th></th>\n",
       "      <th></th>\n",
       "      <th></th>\n",
       "      <th></th>\n",
       "      <th></th>\n",
       "      <th></th>\n",
       "      <th></th>\n",
       "      <th></th>\n",
       "      <th></th>\n",
       "    </tr>\n",
       "  </thead>\n",
       "  <tbody>\n",
       "    <tr>\n",
       "      <th>0</th>\n",
       "      <td>-0.206282</td>\n",
       "      <td>-1.715620</td>\n",
       "      <td>-9.073854</td>\n",
       "      <td>-0.501698</td>\n",
       "      <td>-12.765705</td>\n",
       "      <td>-13.172326</td>\n",
       "      <td>-0.523769</td>\n",
       "      <td>-1.667233</td>\n",
       "      <td>-0.459253</td>\n",
       "      <td>-0.176570</td>\n",
       "    </tr>\n",
       "    <tr>\n",
       "      <th>1</th>\n",
       "      <td>-93.436559</td>\n",
       "      <td>-93.451613</td>\n",
       "      <td>-95.789247</td>\n",
       "      <td>-87.034409</td>\n",
       "      <td>-96.655914</td>\n",
       "      <td>-94.086022</td>\n",
       "      <td>-84.473118</td>\n",
       "      <td>-91.544086</td>\n",
       "      <td>-95.159140</td>\n",
       "      <td>-46.980645</td>\n",
       "    </tr>\n",
       "    <tr>\n",
       "      <th>2</th>\n",
       "      <td>-94.602649</td>\n",
       "      <td>-76.688742</td>\n",
       "      <td>-77.238411</td>\n",
       "      <td>-45.505519</td>\n",
       "      <td>-62.412804</td>\n",
       "      <td>-61.061810</td>\n",
       "      <td>-38.763797</td>\n",
       "      <td>-36.476821</td>\n",
       "      <td>-28.231788</td>\n",
       "      <td>-24.920530</td>\n",
       "    </tr>\n",
       "  </tbody>\n",
       "</table>\n",
       "</div>"
      ],
      "text/plain": [
       "          GV_181#1  GV_174#9999  GV_183#100    GV_31#4  GV_227#99  \\\n",
       "cluster                                                             \n",
       "0        -0.206282    -1.715620   -9.073854  -0.501698 -12.765705   \n",
       "1       -93.436559   -93.451613  -95.789247 -87.034409 -96.655914   \n",
       "2       -94.602649   -76.688742  -77.238411 -45.505519 -62.412804   \n",
       "\n",
       "         GV_339#9999  GV_136#99  GV_132#22  GV_133#99    GV_32#5  \n",
       "cluster                                                           \n",
       "0         -13.172326  -0.523769  -1.667233  -0.459253  -0.176570  \n",
       "1         -94.086022 -84.473118 -91.544086 -95.159140 -46.980645  \n",
       "2         -61.061810 -38.763797 -36.476821 -28.231788 -24.920530  "
      ]
     },
     "execution_count": 45,
     "metadata": {},
     "output_type": "execute_result"
    }
   ],
   "source": [
    "rev_scale.groupby('cluster').mean()[ques_ans_kmeans_bw['answer']]"
   ]
  },
  {
   "cell_type": "code",
   "execution_count": 46,
   "id": "219177ef",
   "metadata": {},
   "outputs": [
    {
     "data": {
      "text/html": [
       "<div>\n",
       "<style scoped>\n",
       "    .dataframe tbody tr th:only-of-type {\n",
       "        vertical-align: middle;\n",
       "    }\n",
       "\n",
       "    .dataframe tbody tr th {\n",
       "        vertical-align: top;\n",
       "    }\n",
       "\n",
       "    .dataframe thead th {\n",
       "        text-align: right;\n",
       "    }\n",
       "</style>\n",
       "<table border=\"1\" class=\"dataframe\">\n",
       "  <thead>\n",
       "    <tr style=\"text-align: right;\">\n",
       "      <th></th>\n",
       "      <th>v0013_demo_agecat_num</th>\n",
       "      <th>v9990_demo_income2gbr_num</th>\n",
       "      <th>v9915_demo_children_num</th>\n",
       "      <th>v0049_life_devicesinternet#1</th>\n",
       "      <th>v9930c_life_values#1</th>\n",
       "    </tr>\n",
       "    <tr>\n",
       "      <th>cluster</th>\n",
       "      <th></th>\n",
       "      <th></th>\n",
       "      <th></th>\n",
       "      <th></th>\n",
       "      <th></th>\n",
       "    </tr>\n",
       "  </thead>\n",
       "  <tbody>\n",
       "    <tr>\n",
       "      <th>0</th>\n",
       "      <td>39.648557</td>\n",
       "      <td>33.707980</td>\n",
       "      <td>0.497453</td>\n",
       "      <td>0.382003</td>\n",
       "      <td>0.171477</td>\n",
       "    </tr>\n",
       "    <tr>\n",
       "      <th>1</th>\n",
       "      <td>30.797849</td>\n",
       "      <td>35.811183</td>\n",
       "      <td>0.582796</td>\n",
       "      <td>0.376344</td>\n",
       "      <td>0.337634</td>\n",
       "    </tr>\n",
       "    <tr>\n",
       "      <th>2</th>\n",
       "      <td>32.931567</td>\n",
       "      <td>33.719647</td>\n",
       "      <td>0.719647</td>\n",
       "      <td>0.355408</td>\n",
       "      <td>0.273731</td>\n",
       "    </tr>\n",
       "  </tbody>\n",
       "</table>\n",
       "</div>"
      ],
      "text/plain": [
       "         v0013_demo_agecat_num  v9990_demo_income2gbr_num  \\\n",
       "cluster                                                     \n",
       "0                    39.648557                  33.707980   \n",
       "1                    30.797849                  35.811183   \n",
       "2                    32.931567                  33.719647   \n",
       "\n",
       "         v9915_demo_children_num  v0049_life_devicesinternet#1  \\\n",
       "cluster                                                          \n",
       "0                       0.497453                      0.382003   \n",
       "1                       0.582796                      0.376344   \n",
       "2                       0.719647                      0.355408   \n",
       "\n",
       "         v9930c_life_values#1  \n",
       "cluster                        \n",
       "0                    0.171477  \n",
       "1                    0.337634  \n",
       "2                    0.273731  "
      ]
     },
     "execution_count": 46,
     "metadata": {},
     "output_type": "execute_result"
    }
   ],
   "source": [
    "rev_scale.groupby('cluster').mean()[['v0013_demo_agecat_num'\n",
    "                                        ,'v9990_demo_income2gbr_num'\n",
    "                                        ,'v9915_demo_children_num'\n",
    "                                        ,'v0049_life_devicesinternet#1'\n",
    "                                        , 'v9930c_life_values#1']]"
   ]
  },
  {
   "cell_type": "code",
   "execution_count": 47,
   "id": "7fb02aa3",
   "metadata": {},
   "outputs": [
    {
     "data": {
      "text/plain": [
       "0    1178\n",
       "1     465\n",
       "2     453\n",
       "Name: cluster, dtype: int64"
      ]
     },
     "execution_count": 47,
     "metadata": {},
     "output_type": "execute_result"
    }
   ],
   "source": [
    "rev_scale['cluster'].value_counts()"
   ]
  },
  {
   "cell_type": "code",
   "execution_count": 48,
   "id": "bd37cea1",
   "metadata": {},
   "outputs": [
    {
     "data": {
      "image/png": "[encoded data removed]",
      "text/plain": [
       "<Figure size 432x288 with 1 Axes>"
      ]
     },
     "metadata": {
      "needs_background": "light"
     },
     "output_type": "display_data"
    },
    {
     "data": {
      "image/png": "[encoded data removed]",
      "text/plain": [
       "<Figure size 432x288 with 1 Axes>"
      ]
     },
     "metadata": {
      "needs_background": "light"
     },
     "output_type": "display_data"
    },
    {
     "data": {
      "image/png": "[encoded data removed]",
      "text/plain": [
       "<Figure size 432x288 with 1 Axes>"
      ]
     },
     "metadata": {
      "needs_background": "light"
     },
     "output_type": "display_data"
    },
    {
     "data": {
      "image/png": "[encoded data removed]",
      "text/plain": [
       "<Figure size 432x288 with 1 Axes>"
      ]
     },
     "metadata": {
      "needs_background": "light"
     },
     "output_type": "display_data"
    },
    {
     "data": {
      "image/png": "[encoded data removed]",
      "text/plain": [
       "<Figure size 432x288 with 1 Axes>"
      ]
     },
     "metadata": {
      "needs_background": "light"
     },
     "output_type": "display_data"
    },
    {
     "data": {
      "image/png": "[encoded data removed]",
      "text/plain": [
       "<Figure size 432x288 with 1 Axes>"
      ]
     },
     "metadata": {
      "needs_background": "light"
     },
     "output_type": "display_data"
    },
    {
     "data": {
      "image/png": "[encoded data removed]",
      "text/plain": [
       "<Figure size 432x288 with 1 Axes>"
      ]
     },
     "metadata": {
      "needs_background": "light"
     },
     "output_type": "display_data"
    },
    {
     "data": {
      "image/png": "[encoded data removed]",
      "text/plain": [
       "<Figure size 432x288 with 1 Axes>"
      ]
     },
     "metadata": {
      "needs_background": "light"
     },
     "output_type": "display_data"
    },
    {
     "data": {
      "image/png": "[encoded data removed]",
      "text/plain": [
       "<Figure size 432x288 with 1 Axes>"
      ]
     },
     "metadata": {
      "needs_background": "light"
     },
     "output_type": "display_data"
    },
    {
     "data": {
      "image/png": "[encoded data removed]",
      "text/plain": [
       "<Figure size 432x288 with 1 Axes>"
      ]
     },
     "metadata": {
      "needs_background": "light"
     },
     "output_type": "display_data"
    },
    {
     "data": {
      "text/plain": [
       "<Figure size 432x288 with 0 Axes>"
      ]
     },
     "metadata": {},
     "output_type": "display_data"
    }
   ],
   "source": [
    "fig = plt.figure()\n",
    "ax = fig.add_subplot(111)\n",
    "for i in ques_ans_kmeans_bw['answer']:\n",
    "    rev_scale[rev_scale[i] != -99].loc[rev_scale.cluster==0, i].hist(bins=50, alpha=0.2, label='cluster 0', density=True)\n",
    "    rev_scale[rev_scale[i] != -99].loc[rev_scale.cluster==1, i].hist(bins=50, alpha=0.2, label='cluster 1', density=True)\n",
    "    rev_scale[rev_scale[i] != -99].loc[rev_scale.cluster==2, i].hist(bins=50, alpha=0.2, label='cluster 2', density=True)\n",
    "    plt.xlabel(i)\n",
    "    plt.ylabel(\"% Cluster\")\n",
    "    plt.figure()\n",
    "    ax.legend()"
   ]
  },
  {
   "cell_type": "markdown",
   "id": "6e3648ad",
   "metadata": {},
   "source": [
    "# Predictive Model"
   ]
  },
  {
   "cell_type": "markdown",
   "id": "9873fb89",
   "metadata": {},
   "source": [
    "TASK:  Create a supervised classification model using as the target the \"v0154_etra_travelbookings#1\" variable.\n",
    "\n",
    "\"v0154_etra_travelbookings#1\" = \"Which of these travel products have you booked online (website or app) in the past 12 months? - Ans: train tickets (long distance)\"\n",
    "\n",
    "(1 if booked something, 0 if nothing booked)\n",
    "\n",
    "Model that predicts the likelihood of a user booking a long distance train.\n",
    "\n",
    "Number of bookings are going to be relatively low due to COVID.\n",
    "\n",
    "Considerations\n",
    "- Are business trips counted?\n",
    "- Define long distance\n",
    "\n",
    "Brainstorm variables\n",
    "- Income - can they afford it?\n",
    "- Job type - Do they travel for work?\n",
    "- Number of trips booked in the past - Is this train trip a main priority?\n"
   ]
  },
  {
   "cell_type": "code",
   "execution_count": 49,
   "id": "7060ebbe",
   "metadata": {},
   "outputs": [],
   "source": [
    "df_travsurv_num = df_travsurv_num.rename(columns={'v0154_etra_travelbookings#1':'v0154_etra_travelbookings_longdistrain_targ'})"
   ]
  },
  {
   "cell_type": "code",
   "execution_count": 50,
   "id": "a2342962",
   "metadata": {},
   "outputs": [],
   "source": [
    "target = 'v0154_etra_travelbookings_longdistrain_targ'"
   ]
  },
  {
   "cell_type": "markdown",
   "id": "2486cefa",
   "metadata": {},
   "source": [
    "## Explore independent variables against target \n",
    "\n",
    "\n",
    "Of those who traveled long distance on a train in the last 12 months, they tend to have\n",
    "- A higher income (above or within £40 K brack). They can afford to travel or travel for work.\n",
    "- Are younger (in their 20's). More than likely less cautious re covid.\n"
   ]
  },
  {
   "cell_type": "code",
   "execution_count": 51,
   "id": "173e0741",
   "metadata": {},
   "outputs": [
    {
     "data": {
      "text/plain": [
       "<matplotlib.legend.Legend at 0x20c4a942040>"
      ]
     },
     "execution_count": 51,
     "metadata": {},
     "output_type": "execute_result"
    },
    {
     "data": {
      "image/png": "[encoded data removed]",
      "text/plain": [
       "<Figure size 432x288 with 1 Axes>"
      ]
     },
     "metadata": {
      "needs_background": "light"
     },
     "output_type": "display_data"
    }
   ],
   "source": [
    "df_travsurv_num.loc[df_travsurv_num.v0154_etra_travelbookings_longdistrain_targ==1, 'v9990_demo_income2gbr_num'].hist(bins=50, alpha=0.5, label='train_booked', density=True)\n",
    "df_travsurv_num.loc[df_travsurv_num.v0154_etra_travelbookings_longdistrain_targ==0, 'v9990_demo_income2gbr_num'].hist(bins=50, alpha=0.5, label='train_not_booked', density=True)\n",
    "plt.xlabel(\"Income bracket (£ 000)\")\n",
    "plt.ylabel(\"% Target\")\n",
    "plt.legend()"
   ]
  },
  {
   "cell_type": "code",
   "execution_count": 52,
   "id": "5b9663ca",
   "metadata": {},
   "outputs": [
    {
     "data": {
      "text/html": [
       "<div>\n",
       "<style scoped>\n",
       "    .dataframe tbody tr th:only-of-type {\n",
       "        vertical-align: middle;\n",
       "    }\n",
       "\n",
       "    .dataframe tbody tr th {\n",
       "        vertical-align: top;\n",
       "    }\n",
       "\n",
       "    .dataframe thead th {\n",
       "        text-align: right;\n",
       "    }\n",
       "</style>\n",
       "<table border=\"1\" class=\"dataframe\">\n",
       "  <thead>\n",
       "    <tr style=\"text-align: right;\">\n",
       "      <th></th>\n",
       "      <th>ID_label</th>\n",
       "      <th>Question</th>\n",
       "    </tr>\n",
       "  </thead>\n",
       "  <tbody>\n",
       "    <tr>\n",
       "      <th>842</th>\n",
       "      <td>v0151_etra_frequencytravel1</td>\n",
       "      <td>\"How often have you traveled for private purposes in the past 12 months?\"</td>\n",
       "    </tr>\n",
       "    <tr>\n",
       "      <th>844</th>\n",
       "      <td>v0152_etra_frequencytravel2</td>\n",
       "      <td>\"How often have you traveled for business purposes in the past 12 months?\"</td>\n",
       "    </tr>\n",
       "    <tr>\n",
       "      <th>846</th>\n",
       "      <td>v0153_etra_intenttravel</td>\n",
       "      <td>\"Are you planning to travel in the next 12 months?\"</td>\n",
       "    </tr>\n",
       "    <tr>\n",
       "      <th>847</th>\n",
       "      <td>v0159_etra_travelbookingsoff</td>\n",
       "      <td>\"Which of these travel products have you booked in the past 12 months?\"</td>\n",
       "    </tr>\n",
       "    <tr>\n",
       "      <th>858</th>\n",
       "      <td>v0154_etra_travelbookings</td>\n",
       "      <td>\"Which of these travel products have you booked online (website or app) in the past 12 months?\"</td>\n",
       "    </tr>\n",
       "    <tr>\n",
       "      <th>979</th>\n",
       "      <td>GV_133</td>\n",
       "      <td>\"Which of the following countries/regions have you travelled to in the last 12 months?\"</td>\n",
       "    </tr>\n",
       "  </tbody>\n",
       "</table>\n",
       "</div>"
      ],
      "text/plain": [
       "                         ID_label  \\\n",
       "842   v0151_etra_frequencytravel1   \n",
       "844   v0152_etra_frequencytravel2   \n",
       "846       v0153_etra_intenttravel   \n",
       "847  v0159_etra_travelbookingsoff   \n",
       "858     v0154_etra_travelbookings   \n",
       "979                        GV_133   \n",
       "\n",
       "                                                                                            Question  \n",
       "842                        \"How often have you traveled for private purposes in the past 12 months?\"  \n",
       "844                       \"How often have you traveled for business purposes in the past 12 months?\"  \n",
       "846                                              \"Are you planning to travel in the next 12 months?\"  \n",
       "847                          \"Which of these travel products have you booked in the past 12 months?\"  \n",
       "858  \"Which of these travel products have you booked online (website or app) in the past 12 months?\"  \n",
       "979          \"Which of the following countries/regions have you travelled to in the last 12 months?\"  "
      ]
     },
     "execution_count": 52,
     "metadata": {},
     "output_type": "execute_result"
    }
   ],
   "source": [
    "ques_df[ques_df['Question'].str.contains('travel')]"
   ]
  },
  {
   "cell_type": "code",
   "execution_count": 53,
   "id": "71cc1fd1",
   "metadata": {},
   "outputs": [],
   "source": [
    "search_terms = [\"business\",\"train\",\"work\"]\n",
    "search_term_df = pd.DataFrame()\n",
    "for word in search_terms:\n",
    "    search_term_df = search_term_df.append(answers_df[answers_df['Answer_options'].str.contains(word, na=False)])"
   ]
  },
  {
   "cell_type": "code",
   "execution_count": 54,
   "id": "07b9ff45",
   "metadata": {},
   "outputs": [
    {
     "data": {
      "text/plain": [
       "<matplotlib.legend.Legend at 0x20c45b00fa0>"
      ]
     },
     "execution_count": 54,
     "metadata": {},
     "output_type": "execute_result"
    },
    {
     "data": {
      "image/png": "[encoded data removed]",
      "text/plain": [
       "<Figure size 432x288 with 1 Axes>"
      ]
     },
     "metadata": {
      "needs_background": "light"
     },
     "output_type": "display_data"
    }
   ],
   "source": [
    "df_travsurv_num.loc[df_travsurv_num.v0154_etra_travelbookings_longdistrain_targ==1, 'v0013_demo_agecat_num'].hist(bins=50, alpha=0.5, label='train_booked', density=True)\n",
    "df_travsurv_num.loc[df_travsurv_num.v0154_etra_travelbookings_longdistrain_targ==0, 'v0013_demo_agecat_num'].hist(bins=50, alpha=0.5, label='train_not_booked', density=True)\n",
    "plt.xlabel(\"Age bracket\")\n",
    "plt.ylabel(\"% Target\")\n",
    "plt.legend()"
   ]
  },
  {
   "cell_type": "code",
   "execution_count": 55,
   "id": "2df9c8af",
   "metadata": {},
   "outputs": [
    {
     "data": {
      "text/plain": [
       "<matplotlib.legend.Legend at 0x20c45b2faf0>"
      ]
     },
     "execution_count": 55,
     "metadata": {},
     "output_type": "execute_result"
    },
    {
     "data": {
      "image/png": "[encoded data removed]",
      "text/plain": [
       "<Figure size 432x288 with 1 Axes>"
      ]
     },
     "metadata": {
      "needs_background": "light"
     },
     "output_type": "display_data"
    }
   ],
   "source": [
    "df_travsurv_num.loc[df_travsurv_num.v0154_etra_travelbookings_longdistrain_targ==1, 'v9915_demo_children_num'].hist(bins=50, alpha=0.5, label='train_booked', density=True)\n",
    "df_travsurv_num.loc[df_travsurv_num.v0154_etra_travelbookings_longdistrain_targ==0, 'v9915_demo_children_num'].hist(bins=50, alpha=0.5, label='train_not_booked', density=True)\n",
    "plt.xlabel(\"Age bracket (£ 000)\")\n",
    "plt.ylabel(\"% Target\")\n",
    "plt.legend()"
   ]
  },
  {
   "cell_type": "markdown",
   "id": "f73fed4a",
   "metadata": {},
   "source": [
    "### Logistic Regression using age, income (starting point, AUC on test set (33/66 split) = 0.55)"
   ]
  },
  {
   "cell_type": "code",
   "execution_count": 56,
   "id": "aa6d69db",
   "metadata": {},
   "outputs": [],
   "source": [
    "\n",
    "y = df_travsurv_num['v0154_etra_travelbookings_longdistrain_targ']\n",
    "X = df_travsurv_num[['v0013_demo_agecat_num','v9990_demo_income2gbr_num']]\n",
    "\n",
    "X_train, X_test, y_train, y_test = train_test_split(X, y, test_size=0.33, random_state=0)\n"
   ]
  },
  {
   "cell_type": "code",
   "execution_count": 57,
   "id": "045f2d31",
   "metadata": {},
   "outputs": [
    {
     "data": {
      "text/plain": [
       "0.0    1040\n",
       "1.0     364\n",
       "Name: v0154_etra_travelbookings_longdistrain_targ, dtype: int64"
      ]
     },
     "execution_count": 57,
     "metadata": {},
     "output_type": "execute_result"
    }
   ],
   "source": [
    "y_train.value_counts()"
   ]
  },
  {
   "cell_type": "code",
   "execution_count": 58,
   "id": "2c094881",
   "metadata": {},
   "outputs": [
    {
     "name": "stdout",
     "output_type": "stream",
     "text": [
      "Optimization terminated successfully.\n",
      "         Current function value: 0.568159\n",
      "         Iterations 5\n"
     ]
    },
    {
     "data": {
      "text/html": [
       "<table class=\"simpletable\">\n",
       "<caption>Logit Regression Results</caption>\n",
       "<tr>\n",
       "  <th>Dep. Variable:</th>   <td>v0154_etra_travelbookings_longdistrain_targ</td> <th>  No. Observations:  </th>   <td>  2096</td>  \n",
       "</tr>\n",
       "<tr>\n",
       "  <th>Model:</th>                              <td>Logit</td>                    <th>  Df Residuals:      </th>   <td>  2094</td>  \n",
       "</tr>\n",
       "<tr>\n",
       "  <th>Method:</th>                              <td>MLE</td>                     <th>  Df Model:          </th>   <td>     1</td>  \n",
       "</tr>\n",
       "<tr>\n",
       "  <th>Date:</th>                         <td>Wed, 27 Oct 2021</td>               <th>  Pseudo R-squ.:     </th> <td>-0.0002308</td>\n",
       "</tr>\n",
       "<tr>\n",
       "  <th>Time:</th>                             <td>11:19:59</td>                   <th>  Log-Likelihood:    </th>  <td> -1190.9</td> \n",
       "</tr>\n",
       "<tr>\n",
       "  <th>converged:</th>                          <td>True</td>                     <th>  LL-Null:           </th>  <td> -1190.6</td> \n",
       "</tr>\n",
       "<tr>\n",
       "  <th>Covariance Type:</th>                  <td>nonrobust</td>                  <th>  LLR p-value:       </th>   <td> 1.000</td>  \n",
       "</tr>\n",
       "</table>\n",
       "<table class=\"simpletable\">\n",
       "<tr>\n",
       "              <td></td>                 <th>coef</th>     <th>std err</th>      <th>z</th>      <th>P>|z|</th>  <th>[0.025</th>    <th>0.975]</th>  \n",
       "</tr>\n",
       "<tr>\n",
       "  <th>v0013_demo_agecat_num</th>     <td>   -0.0309</td> <td>    0.002</td> <td>  -14.809</td> <td> 0.000</td> <td>   -0.035</td> <td>   -0.027</td>\n",
       "</tr>\n",
       "<tr>\n",
       "  <th>v9990_demo_income2gbr_num</th> <td>    0.0026</td> <td>    0.002</td> <td>    1.489</td> <td> 0.136</td> <td>   -0.001</td> <td>    0.006</td>\n",
       "</tr>\n",
       "</table>"
      ],
      "text/plain": [
       "<class 'statsmodels.iolib.summary.Summary'>\n",
       "\"\"\"\n",
       "                                        Logit Regression Results                                       \n",
       "=======================================================================================================\n",
       "Dep. Variable:     v0154_etra_travelbookings_longdistrain_targ   No. Observations:                 2096\n",
       "Model:                                                   Logit   Df Residuals:                     2094\n",
       "Method:                                                    MLE   Df Model:                            1\n",
       "Date:                                         Wed, 27 Oct 2021   Pseudo R-squ.:              -0.0002308\n",
       "Time:                                                 11:19:59   Log-Likelihood:                -1190.9\n",
       "converged:                                                True   LL-Null:                       -1190.6\n",
       "Covariance Type:                                     nonrobust   LLR p-value:                     1.000\n",
       "=============================================================================================\n",
       "                                coef    std err          z      P>|z|      [0.025      0.975]\n",
       "---------------------------------------------------------------------------------------------\n",
       "v0013_demo_agecat_num        -0.0309      0.002    -14.809      0.000      -0.035      -0.027\n",
       "v9990_demo_income2gbr_num     0.0026      0.002      1.489      0.136      -0.001       0.006\n",
       "=============================================================================================\n",
       "\"\"\""
      ]
     },
     "execution_count": 58,
     "metadata": {},
     "output_type": "execute_result"
    }
   ],
   "source": [
    "logit = sm.Logit(y, X).fit()\n",
    "logit.summary()"
   ]
  },
  {
   "cell_type": "code",
   "execution_count": 59,
   "id": "ff83c642",
   "metadata": {},
   "outputs": [
    {
     "data": {
      "image/png": "[encoded data removed]",
      "text/plain": [
       "<Figure size 432x288 with 1 Axes>"
      ]
     },
     "metadata": {
      "needs_background": "light"
     },
     "output_type": "display_data"
    }
   ],
   "source": [
    "\n",
    "X_test['pred'] = logit.predict(X_test[['v0013_demo_agecat_num','v9990_demo_income2gbr_num']])\n",
    "yX_test = X_test.merge(pd.Series(y_test), right_index=True, left_index=True)\n",
    "\n",
    "logit_roc_auc = metrics.roc_auc_score(yX_test['v0154_etra_travelbookings_longdistrain_targ'], yX_test['pred'])\n",
    "fpr, tpr, thresholds = metrics.roc_curve(yX_test['v0154_etra_travelbookings_longdistrain_targ'], yX_test['pred'])\n",
    "\n",
    "plt.figure()\n",
    "plt.plot(fpr, tpr, label='Logistic Regression (area = %0.2f)' % logit_roc_auc)\n",
    "plt.plot([0, 1], [0, 1],'r--')\n",
    "plt.xlabel('False Positive Rate')\n",
    "plt.ylabel('True Positive Rate')\n",
    "plt.title('Receiver operating characteristic')\n",
    "plt.legend(loc=\"lower right\")\n",
    "plt.savefig('Log_ROC')\n",
    "plt.show()\n"
   ]
  },
  {
   "cell_type": "markdown",
   "id": "1cd5ac68",
   "metadata": {},
   "source": [
    "### Encode more non-numeric variables as numeric (prioritised anything to do with travel and work)\n",
    "\n",
    "Encoded:\n",
    "\n",
    "- Frequency of Private travel (v0151_etra_frequencytravel1)\n",
    "- Frequency of Business travel (v0152_etra_frequencytravel2)\n",
    "\n",
    "\n",
    "Possibilities:\n",
    "\n",
    "- v0574_mobi_frequency#1\t\"How often do you use the following modes of transportation?\"\n",
    "- v9912_demo_profession\t\"Which of the following categories best describes your current employment status?\"\n",
    "- v0562_mobi_commuting\t\"On average, how long is your daily commute to work/school/university (one way)?\"\n",
    "- v0045_demo_regiongbr\t\"Where do you currently live?\"\n",
    "- v0558_mobi_carsatisfaction\t\"How satisfied are you currently with your primarily used car make?\"\n",
    "- v0559_mobi_carchange\t\"How likely are you going to change your (primarily used) car make on the next possible occasion?\"\n",
    "- v0560a_mobi_drivetechnologies\t\"Which of these propulsion types does your primarily used car use?\"\n",
    "- v0574_mobi_frequency#1\t\"How often do you use the following modes of transportation?\"\n",
    "- v0151_etra_frequencytravel1\t\"How often have you traveled for private purposes in the past 12 months?\"\n",
    "- v0152_etra_frequencytravel2\t\"How often have you traveled for business purposes in the past 12 months?\"\n",
    "- GV_19\t\"Which of the following categories best describes your organization's primary industry?\"\n",
    "- GV_165\t\"How would you define the price range of the car your organization purchases/leases for their employees?\n",
    "- GV_164\t\"How many cars does your organization purchase/lease per year for their employees?\""
   ]
  },
  {
   "cell_type": "code",
   "execution_count": 60,
   "id": "94b8944e",
   "metadata": {},
   "outputs": [],
   "source": [
    "non_num_cols = []\n",
    "for col in df_travsurv.columns:\n",
    "    if df_travsurv[col].dtype != 'float64':\n",
    "        non_num_cols.append(col)"
   ]
  },
  {
   "cell_type": "code",
   "execution_count": 61,
   "id": "aaf9073b",
   "metadata": {},
   "outputs": [],
   "source": [
    "dem_cols = []\n",
    "non_dem_cols = []\n",
    "\n",
    "for ques in non_num_cols:\n",
    "    if ques.startswith('v'):\n",
    "        dem_cols.append(ques)\n",
    "    if ques.startswith('GV'):\n",
    "        non_dem_cols.append(ques)"
   ]
  },
  {
   "cell_type": "markdown",
   "id": "6a13d29b",
   "metadata": {},
   "source": [
    "#### Frequency of travel"
   ]
  },
  {
   "cell_type": "code",
   "execution_count": 62,
   "id": "0a08f3cf",
   "metadata": {},
   "outputs": [
    {
     "data": {
      "text/plain": [
       "array(['2-3 times', 'once', '4-5 times', 'not at all',\n",
       "       'more than 10 times', '6-10 times'], dtype=object)"
      ]
     },
     "execution_count": 62,
     "metadata": {},
     "output_type": "execute_result"
    }
   ],
   "source": [
    "df_travsurv['v0151_etra_frequencytravel1'].unique()"
   ]
  },
  {
   "cell_type": "code",
   "execution_count": 63,
   "id": "e16af6ae",
   "metadata": {},
   "outputs": [],
   "source": [
    "freqtrav_data = [['not at all', 0], ['once', 1], ['2-3 times', 2], ['4-5 times', 4], ['6-10 times', 6], ['6-10 times', 10]]\n",
    "freqtrav_df = pd.DataFrame(freqtrav_data).rename(columns={0: \"v0151_etra_frequencytravel1\", 1: \"v0151_etra_frequencytravel1_num\"})\n",
    "df_travsurv = df_travsurv.merge(freqtrav_df)\n",
    "df_travsurv['v0151_etra_frequencytravel1_num'] = df_travsurv['v0151_etra_frequencytravel1_num'].astype(float)"
   ]
  },
  {
   "cell_type": "markdown",
   "id": "d9cc9a20",
   "metadata": {},
   "source": [
    "#### Frequency of Business travel (v0152_etra_frequencytravel2)"
   ]
  },
  {
   "cell_type": "code",
   "execution_count": 64,
   "id": "f5fe6542",
   "metadata": {},
   "outputs": [
    {
     "data": {
      "text/plain": [
       "array(['not at all', 'more than 10 times', '2-3 times', 'once',\n",
       "       '4-5 times', '6-10 times'], dtype=object)"
      ]
     },
     "execution_count": 64,
     "metadata": {},
     "output_type": "execute_result"
    }
   ],
   "source": [
    "df_travsurv['v0152_etra_frequencytravel2'].unique()"
   ]
  },
  {
   "cell_type": "code",
   "execution_count": 65,
   "id": "3caddf37",
   "metadata": {},
   "outputs": [],
   "source": [
    "freqtrav_df.columns = [\"v0152_etra_frequencytravel2\", \"v0152_etra_frequencytravel2_num\"]\n",
    "df_travsurv = df_travsurv.merge(freqtrav_df)\n",
    "df_travsurv['v0152_etra_frequencytravel2_num'] = df_travsurv['v0152_etra_frequencytravel2_num'].astype(float)"
   ]
  },
  {
   "cell_type": "markdown",
   "id": "6b310038",
   "metadata": {},
   "source": [
    "#### \"Where do you currently live?\" (v0045_demo_regiongbr)"
   ]
  },
  {
   "cell_type": "code",
   "execution_count": 66,
   "id": "eff4cc91",
   "metadata": {},
   "outputs": [
    {
     "data": {
      "text/plain": [
       "array(['West Midlands, England', 'North West, England', 'London, England',\n",
       "       'Scotland', 'Wales', 'South West, England',\n",
       "       'Yorkshire and the Humber, England', 'East of England',\n",
       "       'South East, England', 'Northern Ireland',\n",
       "       'East Midlands, England', 'North East, England'], dtype=object)"
      ]
     },
     "execution_count": 66,
     "metadata": {},
     "output_type": "execute_result"
    }
   ],
   "source": [
    "df_travsurv['v0045_demo_regiongbr'].unique()"
   ]
  },
  {
   "cell_type": "code",
   "execution_count": 67,
   "id": "48999e4a",
   "metadata": {},
   "outputs": [],
   "source": [
    "df_travsurv['lives_in_london'] = np.where(df_travsurv['v0045_demo_regiongbr'] == 'London, England', 1, 0)\n",
    "df_travsurv['lives_in_london'] = df_travsurv['lives_in_london'].astype(float)"
   ]
  },
  {
   "cell_type": "code",
   "execution_count": 68,
   "id": "3b83830e",
   "metadata": {},
   "outputs": [],
   "source": [
    "df_travsurv['lives_in_england'] = np.where(df_travsurv['v0045_demo_regiongbr'].str.contains('England'), 1, 0)\n",
    "df_travsurv['lives_in_england'] = df_travsurv['lives_in_england'].astype(float)"
   ]
  },
  {
   "cell_type": "markdown",
   "id": "442aed9e",
   "metadata": {},
   "source": [
    "#### Update num cols"
   ]
  },
  {
   "cell_type": "code",
   "execution_count": 69,
   "id": "c6d0a442",
   "metadata": {},
   "outputs": [],
   "source": [
    "num_cols = []\n",
    "for col in df_travsurv.columns:\n",
    "    if df_travsurv[col].dtype == 'float64':\n",
    "        num_cols.append(col)\n",
    "        \n",
    "df_travsurv_num = df_travsurv[num_cols]"
   ]
  },
  {
   "cell_type": "markdown",
   "id": "c74def72",
   "metadata": {},
   "source": [
    "### Lostic Regression, with travel frquency variables added (AUC on test set (33/66 split) = 0.65)"
   ]
  },
  {
   "cell_type": "code",
   "execution_count": 70,
   "id": "b0f13892",
   "metadata": {},
   "outputs": [
    {
     "name": "stdout",
     "output_type": "stream",
     "text": [
      "Optimization terminated successfully.\n",
      "         Current function value: 0.549068\n",
      "         Iterations 5\n",
      "                                Logit Regression Results                               \n",
      "=======================================================================================\n",
      "Dep. Variable:     v0154_etra_travelbookings#1   No. Observations:                 2024\n",
      "Model:                                   Logit   Df Residuals:                     2020\n",
      "Method:                                    MLE   Df Model:                            3\n",
      "Date:                         Wed, 27 Oct 2021   Pseudo R-squ.:                 0.04846\n",
      "Time:                                 11:20:00   Log-Likelihood:                -1111.3\n",
      "converged:                                True   LL-Null:                       -1167.9\n",
      "Covariance Type:                     nonrobust   LLR p-value:                 2.262e-24\n",
      "===================================================================================================\n",
      "                                      coef    std err          z      P>|z|      [0.025      0.975]\n",
      "---------------------------------------------------------------------------------------------------\n",
      "v0013_demo_agecat_num              -0.0390      0.002    -16.060      0.000      -0.044      -0.034\n",
      "v9990_demo_income2gbr_num          -0.0032      0.002     -1.701      0.089      -0.007       0.000\n",
      "v0152_etra_frequencytravel2_num     0.0694      0.025      2.748      0.006       0.020       0.119\n",
      "v0151_etra_frequencytravel1_num     0.1788      0.021      8.461      0.000       0.137       0.220\n",
      "===================================================================================================\n"
     ]
    },
    {
     "data": {
      "image/png": "[encoded data removed]",
      "text/plain": [
       "<Figure size 432x288 with 1 Axes>"
      ]
     },
     "metadata": {
      "needs_background": "light"
     },
     "output_type": "display_data"
    }
   ],
   "source": [
    "y = df_travsurv_num['v0154_etra_travelbookings#1']\n",
    "X = df_travsurv_num[['v0013_demo_agecat_num','v9990_demo_income2gbr_num','v0152_etra_frequencytravel2_num', 'v0151_etra_frequencytravel1_num']]\n",
    "\n",
    "X_train, X_test, y_train, y_test = train_test_split(X, y, test_size=0.33, random_state=0)\n",
    "\n",
    "logit = sm.Logit(y, X).fit()\n",
    "print(logit.summary())\n",
    "\n",
    "\n",
    "X_test['pred'] = logit.predict(X_test[['v0013_demo_agecat_num','v9990_demo_income2gbr_num','v0152_etra_frequencytravel2_num', 'v0151_etra_frequencytravel1_num']])\n",
    "yX_test = X_test.merge(pd.Series(y_test), right_index=True, left_index=True)\n",
    "\n",
    "logit_roc_auc = metrics.roc_auc_score(yX_test['v0154_etra_travelbookings#1'], yX_test['pred'])\n",
    "fpr, tpr, thresholds = metrics.roc_curve(yX_test['v0154_etra_travelbookings#1'], yX_test['pred'])\n",
    "\n",
    "plt.figure()\n",
    "plt.plot(fpr, tpr, label='Logistic Regression (area = %0.2f)' % logit_roc_auc)\n",
    "plt.plot([0, 1], [0, 1],'r--')\n",
    "plt.xlabel('False Positive Rate')\n",
    "plt.ylabel('True Positive Rate')\n",
    "plt.title('Receiver operating characteristic')\n",
    "plt.legend(loc=\"lower right\")\n",
    "plt.savefig('Log_ROC')\n",
    "plt.show()\n"
   ]
  },
  {
   "cell_type": "markdown",
   "id": "8f26fc39",
   "metadata": {},
   "source": [
    "### Lostic Regression, with region, frequency, age variables and income removed (AUC on test set (33/66 split) = 0.65)"
   ]
  },
  {
   "cell_type": "code",
   "execution_count": 71,
   "id": "173d31de",
   "metadata": {},
   "outputs": [
    {
     "name": "stdout",
     "output_type": "stream",
     "text": [
      "Optimization terminated successfully.\n",
      "         Current function value: 0.549791\n",
      "         Iterations 5\n",
      "                                Logit Regression Results                               \n",
      "=======================================================================================\n",
      "Dep. Variable:     v0154_etra_travelbookings#1   No. Observations:                 2024\n",
      "Model:                                   Logit   Df Residuals:                     2021\n",
      "Method:                                    MLE   Df Model:                            2\n",
      "Date:                         Wed, 27 Oct 2021   Pseudo R-squ.:                 0.04720\n",
      "Time:                                 11:20:00   Log-Likelihood:                -1112.8\n",
      "converged:                                True   LL-Null:                       -1167.9\n",
      "Covariance Type:                     nonrobust   LLR p-value:                 1.142e-24\n",
      "===================================================================================================\n",
      "                                      coef    std err          z      P>|z|      [0.025      0.975]\n",
      "---------------------------------------------------------------------------------------------------\n",
      "v0013_demo_agecat_num              -0.0412      0.002    -19.948      0.000      -0.045      -0.037\n",
      "v0152_etra_frequencytravel2_num     0.0592      0.024      2.415      0.016       0.011       0.107\n",
      "v0151_etra_frequencytravel1_num     0.1718      0.021      8.277      0.000       0.131       0.213\n",
      "===================================================================================================\n"
     ]
    },
    {
     "data": {
      "image/png": "[encoded data removed]",
      "text/plain": [
       "<Figure size 432x288 with 1 Axes>"
      ]
     },
     "metadata": {
      "needs_background": "light"
     },
     "output_type": "display_data"
    }
   ],
   "source": [
    "\n",
    "y = df_travsurv_num['v0154_etra_travelbookings#1']\n",
    "X = df_travsurv_num[['v0013_demo_agecat_num','v0152_etra_frequencytravel2_num', 'v0151_etra_frequencytravel1_num']]\n",
    "\n",
    "X_train, X_test, y_train, y_test = train_test_split(X, y, test_size=0.33, random_state=0)\n",
    "\n",
    "logit = sm.Logit(y, X).fit()\n",
    "print(logit.summary())\n",
    "\n",
    "X_test['pred'] = logit.predict(X_test[['v0013_demo_agecat_num','v0152_etra_frequencytravel2_num', 'v0151_etra_frequencytravel1_num']])\n",
    "yX_test = X_test.merge(pd.Series(y_test), right_index=True, left_index=True)\n",
    "\n",
    "logit_roc_auc = metrics.roc_auc_score(yX_test['v0154_etra_travelbookings#1'], yX_test['pred'])\n",
    "fpr, tpr, thresholds = metrics.roc_curve(yX_test['v0154_etra_travelbookings#1'], yX_test['pred'])\n",
    "\n",
    "plt.figure()\n",
    "plt.plot(fpr, tpr, label='Logistic Regression (area = %0.2f)' % logit_roc_auc)\n",
    "plt.plot([0, 1], [0, 1],'r--')\n",
    "plt.xlabel('False Positive Rate')\n",
    "plt.ylabel('True Positive Rate')\n",
    "plt.title('Receiver operating characteristic')\n",
    "plt.legend(loc=\"lower right\")\n",
    "plt.savefig('Log_ROC')\n",
    "plt.show()"
   ]
  },
  {
   "cell_type": "markdown",
   "id": "20e72b60",
   "metadata": {},
   "source": [
    "### Decision Tree"
   ]
  },
  {
   "cell_type": "code",
   "execution_count": 72,
   "id": "85bd41dc",
   "metadata": {},
   "outputs": [
    {
     "name": "stdout",
     "output_type": "stream",
     "text": [
      "1.0\n",
      "Accuracy: 0.7038123167155426\n",
      "2.0\n",
      "Accuracy: 0.6615853658536586\n"
     ]
    }
   ],
   "source": [
    "from sklearn.tree import DecisionTreeClassifier # Import Decision Tree Classifier\n",
    "\n",
    "# Create Decision Tree classifer object\n",
    "clf = DecisionTreeClassifier()\n",
    "\n",
    "dt_results = pd.DataFrame()\n",
    "\n",
    "for w in [1.0,2.0]:\n",
    "    y = df_travsurv_num[df_travsurv_num['wave'] == w]['v0154_etra_travelbookings#1']\n",
    "    X = df_travsurv_num[df_travsurv_num['wave'] == w].drop(columns=['v0154_etra_travelbookings#1','v0159_etra_travelbookingsoff#1'])\n",
    "\n",
    "    X_train, X_test, y_train, y_test = train_test_split(X, y, test_size=0.33, random_state=0)\n",
    "\n",
    "\n",
    "\n",
    "    # Train Decision Tree Classifer\n",
    "    clf = clf.fit(X_train,y_train)\n",
    "\n",
    "    #Predict the response for test dataset\n",
    "    y_pred = clf.predict(X_test)\n",
    "\n",
    "\n",
    "    print(w)\n",
    "    print(\"Accuracy:\",metrics.accuracy_score(y_test, y_pred))\n",
    "\n",
    "    importance = clf.feature_importances_\n",
    "    feat_imp_df = pd.DataFrame(zip(list(X_train.columns), list(importance)))\n",
    "    feat_imp_df.columns = ['feats','importance']\n",
    "    feat_imp_top = feat_imp_df.sort_values('importance', ascending=False).head(30)\n",
    "\n",
    "    feat_imp_top['feats_orig'] = feat_imp_top['feats']\n",
    "    feat_imp_top['feats'] = feat_imp_top['feats'].apply(lambda x: x.replace('_num',''))\n",
    "    feat_imp_top['feats_ques'] = feat_imp_top['feats'].apply(lambda x: x.split('#')[0])\n",
    "\n",
    "    feats_qs = feat_imp_top.merge(ques_df,left_on='feats_ques',right_on='ID_label',how='left')\n",
    "    feats_ans = feat_imp_top.merge(answers_df,left_on='feats',right_on='ID_label',how='left')\n",
    "    feats_qs_ans = feats_qs.merge(feats_ans['Answer_options'],right_index=True,left_index=True)\n",
    "    feats_qs_ans['wave'] = w\n",
    "    dt_results = dt_results.append(feats_qs_ans)\n",
    "    \n",
    "dt_results.to_csv('dt_feature_imp.csv')"
   ]
  },
  {
   "cell_type": "code",
   "execution_count": 73,
   "id": "bb2fcc3b",
   "metadata": {},
   "outputs": [
    {
     "name": "stdout",
     "output_type": "stream",
     "text": [
      "Wall time: 31min 27s\n"
     ]
    }
   ],
   "source": [
    "\n",
    "%%time\n",
    "rfe_res2 = []\n",
    "X_w = pd.DataFrame()\n",
    "\n",
    "for w in [1.0,2.0]:\n",
    "    \n",
    "    ind_vars = list(dt_results[dt_results['wave'] == w]['feats_orig'])\n",
    "    y = df_travsurv_num['v0154_etra_travelbookings#1']\n",
    "    X = df_travsurv_num[ind_vars]\n",
    "    X['wave'] = w\n",
    "    X_w =  X_w.append(X)\n",
    "    X = X.drop(columns=['wave'])\n",
    "\n",
    "    estimator = SVR(kernel=\"linear\")\n",
    "    selector = RFE(estimator, n_features_to_select=5, step=1)\n",
    "    selector = selector.fit(X, y)\n",
    "    \n",
    "    rfe_res2+=[w,selector.support_,selector.ranking_]\n",
    "\n",
    "dt30_feats_w1 = X_w[X_w['wave'] == 1.0].dropna(axis='columns',how='all')\n",
    "dt30_feats_w2 = X_w[X_w['wave'] == 2.0].dropna(axis='columns',how='all')\n",
    "\n",
    "w1_top5 = list(compress(list(dt30_feats_w1.columns), list(rfe_res2[1])))\n",
    "w2_top5 = list(compress(list(dt30_feats_w2.columns), list(rfe_res2[4])))\n"
   ]
  },
  {
   "cell_type": "code",
   "execution_count": 74,
   "id": "a2ef7ba7",
   "metadata": {},
   "outputs": [],
   "source": [
    "dt30_feats_w1 = X_w[X_w['wave'] == 1.0].dropna(axis='columns',how='all')\n",
    "dt30_feats_w2 = X_w[X_w['wave'] == 2.0].dropna(axis='columns',how='all')"
   ]
  },
  {
   "cell_type": "code",
   "execution_count": 75,
   "id": "b663a76e",
   "metadata": {},
   "outputs": [],
   "source": [
    "w1_top5 = list(compress(list(dt30_feats_w1.columns), list(rfe_res2[1])))\n",
    "w2_top5 = list(compress(list(dt30_feats_w2.columns), list(rfe_res2[4])))"
   ]
  },
  {
   "cell_type": "code",
   "execution_count": 98,
   "id": "0ce37738",
   "metadata": {},
   "outputs": [],
   "source": [
    "dt30_feats_w1.to_csv('dt30_feats_w1.csv')\n",
    "dt30_feats_w2.to_csv('dt30_feats_w2.csv')"
   ]
  },
  {
   "cell_type": "markdown",
   "id": "93c5e049",
   "metadata": {},
   "source": [
    "### Revisit Logistic Regression with DT / RFE features, split by waves"
   ]
  },
  {
   "cell_type": "code",
   "execution_count": 76,
   "id": "24c4a4c4",
   "metadata": {},
   "outputs": [
    {
     "name": "stdout",
     "output_type": "stream",
     "text": [
      "Optimization terminated successfully.\n",
      "         Current function value: 0.619850\n",
      "         Iterations 5\n",
      "                                Logit Regression Results                               \n",
      "=======================================================================================\n",
      "Dep. Variable:     v0154_etra_travelbookings#1   No. Observations:                 2024\n",
      "Model:                                   Logit   Df Residuals:                     2019\n",
      "Method:                                    MLE   Df Model:                            4\n",
      "Date:                         Wed, 27 Oct 2021   Pseudo R-squ.:                -0.07421\n",
      "Time:                                 11:51:28   Log-Likelihood:                -1254.6\n",
      "converged:                                True   LL-Null:                       -1167.9\n",
      "Covariance Type:                     nonrobust   LLR p-value:                     1.000\n",
      "==============================================================================\n",
      "                 coef    std err          z      P>|z|      [0.025      0.975]\n",
      "------------------------------------------------------------------------------\n",
      "GV_163#97     -0.7596      0.087     -8.718      0.000      -0.930      -0.589\n",
      "GV_174#26     -0.5113      0.102     -5.012      0.000      -0.711      -0.311\n",
      "GV_174#41      0.5198      0.102      5.094      0.000       0.320       0.720\n",
      "GV_163#7      -0.1031      0.197     -0.524      0.601      -0.489       0.283\n",
      "GV_163#110     0.8640      0.211      4.104      0.000       0.451       1.277\n",
      "==============================================================================\n"
     ]
    },
    {
     "data": {
      "image/png": "[encoded data removed]",
      "text/plain": [
       "<Figure size 432x288 with 1 Axes>"
      ]
     },
     "metadata": {
      "needs_background": "light"
     },
     "output_type": "display_data"
    }
   ],
   "source": [
    "#W1\n",
    "y = df_travsurv_num['v0154_etra_travelbookings#1']\n",
    "X = df_travsurv_num[w1_top5]\n",
    "\n",
    "X_train, X_test, y_train, y_test = train_test_split(X, y, test_size=0.33, random_state=0)\n",
    "\n",
    "logit = sm.Logit(y, X).fit()\n",
    "print(logit.summary())\n",
    "\n",
    "X_test['pred'] = logit.predict(X_test[w1_top5])\n",
    "yX_test = X_test.merge(pd.Series(y_test), right_index=True, left_index=True)\n",
    "\n",
    "logit_roc_auc = metrics.roc_auc_score(yX_test['v0154_etra_travelbookings#1'], yX_test['pred'])\n",
    "fpr, tpr, thresholds = metrics.roc_curve(yX_test['v0154_etra_travelbookings#1'], yX_test['pred'])\n",
    "\n",
    "plt.figure()\n",
    "plt.plot(fpr, tpr, label='Logistic Regression (area = %0.2f)' % logit_roc_auc)\n",
    "plt.plot([0, 1], [0, 1],'r--')\n",
    "plt.xlabel('False Positive Rate')\n",
    "plt.ylabel('True Positive Rate')\n",
    "plt.title('Receiver operating characteristic')\n",
    "plt.legend(loc=\"lower right\")\n",
    "plt.savefig('Log_ROC')\n",
    "plt.show()"
   ]
  },
  {
   "cell_type": "code",
   "execution_count": 77,
   "id": "12237a32",
   "metadata": {},
   "outputs": [
    {
     "name": "stdout",
     "output_type": "stream",
     "text": [
      "Optimization terminated successfully.\n",
      "         Current function value: 0.634855\n",
      "         Iterations 5\n",
      "                                Logit Regression Results                               \n",
      "=======================================================================================\n",
      "Dep. Variable:     v0154_etra_travelbookings#1   No. Observations:                 2024\n",
      "Model:                                   Logit   Df Residuals:                     2019\n",
      "Method:                                    MLE   Df Model:                            4\n",
      "Date:                         Wed, 27 Oct 2021   Pseudo R-squ.:                 -0.1002\n",
      "Time:                                 11:51:28   Log-Likelihood:                -1284.9\n",
      "converged:                                True   LL-Null:                       -1167.9\n",
      "Covariance Type:                     nonrobust   LLR p-value:                     1.000\n",
      "===============================================================================================\n",
      "                                  coef    std err          z      P>|z|      [0.025      0.975]\n",
      "-----------------------------------------------------------------------------------------------\n",
      "GV_133#1                        0.0036      0.002      1.613      0.107      -0.001       0.008\n",
      "GV_136#17                       0.0001      0.002      0.071      0.943      -0.003       0.003\n",
      "GV_132#15                       0.0041      0.002      2.018      0.044       0.000       0.008\n",
      "v9996_demo_politiccountry#1    -0.7082      0.082     -8.634      0.000      -0.869      -0.547\n",
      "GV_14#100                       0.0020      0.002      1.326      0.185      -0.001       0.005\n",
      "===============================================================================================\n"
     ]
    },
    {
     "data": {
      "image/png": "[encoded data removed]",
      "text/plain": [
       "<Figure size 432x288 with 1 Axes>"
      ]
     },
     "metadata": {
      "needs_background": "light"
     },
     "output_type": "display_data"
    }
   ],
   "source": [
    "#W2\n",
    "y = df_travsurv_num['v0154_etra_travelbookings#1']\n",
    "X = df_travsurv_num[w2_top5]\n",
    "\n",
    "X_train, X_test, y_train, y_test = train_test_split(X, y, test_size=0.33, random_state=0)\n",
    "\n",
    "logit = sm.Logit(y, X).fit()\n",
    "print(logit.summary())\n",
    "\n",
    "X_test['pred'] = logit.predict(X_test[w2_top5])\n",
    "yX_test = X_test.merge(pd.Series(y_test), right_index=True, left_index=True)\n",
    "\n",
    "logit_roc_auc = metrics.roc_auc_score(yX_test['v0154_etra_travelbookings#1'], yX_test['pred'])\n",
    "fpr, tpr, thresholds = metrics.roc_curve(yX_test['v0154_etra_travelbookings#1'], yX_test['pred'])\n",
    "\n",
    "plt.figure()\n",
    "plt.plot(fpr, tpr, label='Logistic Regression (area = %0.2f)' % logit_roc_auc)\n",
    "plt.plot([0, 1], [0, 1],'r--')\n",
    "plt.xlabel('False Positive Rate')\n",
    "plt.ylabel('True Positive Rate')\n",
    "plt.title('Receiver operating characteristic')\n",
    "plt.legend(loc=\"lower right\")\n",
    "plt.savefig('Log_ROC')\n",
    "plt.show()"
   ]
  },
  {
   "cell_type": "markdown",
   "id": "31093f44",
   "metadata": {},
   "source": [
    "# eService data used to identify IM engagement and compare clusters defining questions"
   ]
  },
  {
   "cell_type": "markdown",
   "id": "b0f70608",
   "metadata": {},
   "source": [
    "### Data Cleaning"
   ]
  },
  {
   "cell_type": "code",
   "execution_count": 78,
   "id": "59b066f5",
   "metadata": {},
   "outputs": [
    {
     "data": {
      "text/plain": [
       "72"
      ]
     },
     "execution_count": 78,
     "metadata": {},
     "output_type": "execute_result"
    }
   ],
   "source": [
    "\n",
    "non_num_cols = []\n",
    "for col in df_servsurv.columns:\n",
    "    if df_servsurv[col].dtype != 'float64':\n",
    "        non_num_cols.append(col)\n",
    "\n",
    "len(non_num_cols) #non-numeric cols"
   ]
  },
  {
   "cell_type": "markdown",
   "id": "5c83ef4b",
   "metadata": {},
   "source": [
    "### Convert important non-numeric variables to numeric"
   ]
  },
  {
   "cell_type": "code",
   "execution_count": 79,
   "id": "c316e360",
   "metadata": {},
   "outputs": [
    {
     "data": {
      "text/html": [
       "<div>\n",
       "<style scoped>\n",
       "    .dataframe tbody tr th:only-of-type {\n",
       "        vertical-align: middle;\n",
       "    }\n",
       "\n",
       "    .dataframe tbody tr th {\n",
       "        vertical-align: top;\n",
       "    }\n",
       "\n",
       "    .dataframe thead th {\n",
       "        text-align: right;\n",
       "    }\n",
       "</style>\n",
       "<table border=\"1\" class=\"dataframe\">\n",
       "  <thead>\n",
       "    <tr style=\"text-align: right;\">\n",
       "      <th></th>\n",
       "      <th>v9993c_demo_religion</th>\n",
       "      <th>v0013d_demo_agecat</th>\n",
       "      <th>v0443d_inte_social</th>\n",
       "      <th>v0356f_eser_usageservices</th>\n",
       "      <th>v9990c_demo_income_5#1</th>\n",
       "      <th>v0013e_demo_agecat</th>\n",
       "      <th>v9992b_demo_migration</th>\n",
       "      <th>v0364b_eser_moneyprof</th>\n",
       "      <th>v9912c_demo_profession</th>\n",
       "      <th>v9917b_demo_rental</th>\n",
       "      <th>...</th>\n",
       "      <th>GV_339#7</th>\n",
       "      <th>GV_339#8</th>\n",
       "      <th>GV_339#9</th>\n",
       "      <th>GV_339#9999</th>\n",
       "      <th>GV_401</th>\n",
       "      <th>GV_559#1</th>\n",
       "      <th>GV_559#2</th>\n",
       "      <th>GV_559#3</th>\n",
       "      <th>GV_559#4</th>\n",
       "      <th>GV_559#5</th>\n",
       "    </tr>\n",
       "  </thead>\n",
       "  <tbody>\n",
       "    <tr>\n",
       "      <th>0</th>\n",
       "      <td>would rather not say</td>\n",
       "      <td>40 - 49 years</td>\n",
       "      <td>instant messaging user</td>\n",
       "      <td>restaurant and food delivery user</td>\n",
       "      <td>-99.0</td>\n",
       "      <td>45 - 49 years</td>\n",
       "      <td>would rather not say</td>\n",
       "      <td>professional training purchaser</td>\n",
       "      <td>working (full-time employed / part-time employed / self-employed / freelancer)</td>\n",
       "      <td>owned house / apartment</td>\n",
       "      <td>...</td>\n",
       "      <td>-99.0</td>\n",
       "      <td>-99.0</td>\n",
       "      <td>-99.0</td>\n",
       "      <td>-99.0</td>\n",
       "      <td>nurse</td>\n",
       "      <td>0.0</td>\n",
       "      <td>0.0</td>\n",
       "      <td>0.0</td>\n",
       "      <td>0.0</td>\n",
       "      <td>0.0</td>\n",
       "    </tr>\n",
       "    <tr>\n",
       "      <th>1</th>\n",
       "      <td>non-religious/atheist</td>\n",
       "      <td>50 - 59 years</td>\n",
       "      <td>non-user</td>\n",
       "      <td>restaurant and food delivery user</td>\n",
       "      <td>0.0</td>\n",
       "      <td>55 - 59 years</td>\n",
       "      <td>no migrant background</td>\n",
       "      <td>non-purchaser</td>\n",
       "      <td>working (full-time employed / part-time employed / self-employed / freelancer)</td>\n",
       "      <td>owned house / apartment</td>\n",
       "      <td>...</td>\n",
       "      <td>0.0</td>\n",
       "      <td>0.0</td>\n",
       "      <td>0.0</td>\n",
       "      <td>0.0</td>\n",
       "      <td>I do not work in the public sector</td>\n",
       "      <td>0.0</td>\n",
       "      <td>1.0</td>\n",
       "      <td>0.0</td>\n",
       "      <td>0.0</td>\n",
       "      <td>0.0</td>\n",
       "    </tr>\n",
       "    <tr>\n",
       "      <th>2</th>\n",
       "      <td>non-religious/atheist</td>\n",
       "      <td>40 - 49 years</td>\n",
       "      <td>instant messaging user</td>\n",
       "      <td>restaurant and food delivery user</td>\n",
       "      <td>-99.0</td>\n",
       "      <td>45 - 49 years</td>\n",
       "      <td>no migrant background</td>\n",
       "      <td>non-purchaser</td>\n",
       "      <td>working (full-time employed / part-time employed / self-employed / freelancer)</td>\n",
       "      <td>rented house / apartment</td>\n",
       "      <td>...</td>\n",
       "      <td>0.0</td>\n",
       "      <td>0.0</td>\n",
       "      <td>0.0</td>\n",
       "      <td>1.0</td>\n",
       "      <td>I do not work in the public sector</td>\n",
       "      <td>0.0</td>\n",
       "      <td>0.0</td>\n",
       "      <td>0.0</td>\n",
       "      <td>0.0</td>\n",
       "      <td>1.0</td>\n",
       "    </tr>\n",
       "    <tr>\n",
       "      <th>3</th>\n",
       "      <td>religious</td>\n",
       "      <td>18 - 19 years</td>\n",
       "      <td>instant messaging user</td>\n",
       "      <td>restaurant and food delivery user</td>\n",
       "      <td>0.0</td>\n",
       "      <td>18 - 19 years</td>\n",
       "      <td>no migrant background</td>\n",
       "      <td>non-purchaser</td>\n",
       "      <td>working (full-time employed / part-time employed / self-employed / freelancer)</td>\n",
       "      <td>owned house / apartment</td>\n",
       "      <td>...</td>\n",
       "      <td>0.0</td>\n",
       "      <td>0.0</td>\n",
       "      <td>0.0</td>\n",
       "      <td>0.0</td>\n",
       "      <td>civil service</td>\n",
       "      <td>0.0</td>\n",
       "      <td>0.0</td>\n",
       "      <td>0.0</td>\n",
       "      <td>0.0</td>\n",
       "      <td>0.0</td>\n",
       "    </tr>\n",
       "    <tr>\n",
       "      <th>4</th>\n",
       "      <td>religious</td>\n",
       "      <td>40 - 49 years</td>\n",
       "      <td>instant messaging user</td>\n",
       "      <td>restaurant and food delivery user</td>\n",
       "      <td>0.0</td>\n",
       "      <td>40 - 44 years</td>\n",
       "      <td>no migrant background</td>\n",
       "      <td>non-purchaser</td>\n",
       "      <td>working (full-time employed / part-time employed / self-employed / freelancer)</td>\n",
       "      <td>rented house / apartment</td>\n",
       "      <td>...</td>\n",
       "      <td>0.0</td>\n",
       "      <td>0.0</td>\n",
       "      <td>0.0</td>\n",
       "      <td>1.0</td>\n",
       "      <td>other</td>\n",
       "      <td>0.0</td>\n",
       "      <td>0.0</td>\n",
       "      <td>0.0</td>\n",
       "      <td>1.0</td>\n",
       "      <td>0.0</td>\n",
       "    </tr>\n",
       "  </tbody>\n",
       "</table>\n",
       "<p>5 rows × 457 columns</p>\n",
       "</div>"
      ],
      "text/plain": [
       "    v9993c_demo_religion v0013d_demo_agecat      v0443d_inte_social  \\\n",
       "0   would rather not say      40 - 49 years  instant messaging user   \n",
       "1  non-religious/atheist      50 - 59 years                non-user   \n",
       "2  non-religious/atheist      40 - 49 years  instant messaging user   \n",
       "3              religious      18 - 19 years  instant messaging user   \n",
       "4              religious      40 - 49 years  instant messaging user   \n",
       "\n",
       "           v0356f_eser_usageservices  v9990c_demo_income_5#1  \\\n",
       "0  restaurant and food delivery user                   -99.0   \n",
       "1  restaurant and food delivery user                     0.0   \n",
       "2  restaurant and food delivery user                   -99.0   \n",
       "3  restaurant and food delivery user                     0.0   \n",
       "4  restaurant and food delivery user                     0.0   \n",
       "\n",
       "  v0013e_demo_agecat  v9992b_demo_migration            v0364b_eser_moneyprof  \\\n",
       "0      45 - 49 years   would rather not say  professional training purchaser   \n",
       "1      55 - 59 years  no migrant background                    non-purchaser   \n",
       "2      45 - 49 years  no migrant background                    non-purchaser   \n",
       "3      18 - 19 years  no migrant background                    non-purchaser   \n",
       "4      40 - 44 years  no migrant background                    non-purchaser   \n",
       "\n",
       "                                                           v9912c_demo_profession  \\\n",
       "0  working (full-time employed / part-time employed / self-employed / freelancer)   \n",
       "1  working (full-time employed / part-time employed / self-employed / freelancer)   \n",
       "2  working (full-time employed / part-time employed / self-employed / freelancer)   \n",
       "3  working (full-time employed / part-time employed / self-employed / freelancer)   \n",
       "4  working (full-time employed / part-time employed / self-employed / freelancer)   \n",
       "\n",
       "         v9917b_demo_rental  ... GV_339#7  GV_339#8 GV_339#9 GV_339#9999  \\\n",
       "0   owned house / apartment  ...    -99.0     -99.0    -99.0       -99.0   \n",
       "1   owned house / apartment  ...      0.0       0.0      0.0         0.0   \n",
       "2  rented house / apartment  ...      0.0       0.0      0.0         1.0   \n",
       "3   owned house / apartment  ...      0.0       0.0      0.0         0.0   \n",
       "4  rented house / apartment  ...      0.0       0.0      0.0         1.0   \n",
       "\n",
       "                               GV_401 GV_559#1 GV_559#2 GV_559#3 GV_559#4  \\\n",
       "0                               nurse      0.0      0.0      0.0      0.0   \n",
       "1  I do not work in the public sector      0.0      1.0      0.0      0.0   \n",
       "2  I do not work in the public sector      0.0      0.0      0.0      0.0   \n",
       "3                       civil service      0.0      0.0      0.0      0.0   \n",
       "4                               other      0.0      0.0      0.0      1.0   \n",
       "\n",
       "  GV_559#5  \n",
       "0      0.0  \n",
       "1      0.0  \n",
       "2      1.0  \n",
       "3      0.0  \n",
       "4      0.0  \n",
       "\n",
       "[5 rows x 457 columns]"
      ]
     },
     "execution_count": 79,
     "metadata": {},
     "output_type": "execute_result"
    }
   ],
   "source": [
    "df_servsurv.head()"
   ]
  },
  {
   "cell_type": "code",
   "execution_count": 80,
   "id": "f662ac01",
   "metadata": {},
   "outputs": [
    {
     "data": {
      "text/html": [
       "<div>\n",
       "<style scoped>\n",
       "    .dataframe tbody tr th:only-of-type {\n",
       "        vertical-align: middle;\n",
       "    }\n",
       "\n",
       "    .dataframe tbody tr th {\n",
       "        vertical-align: top;\n",
       "    }\n",
       "\n",
       "    .dataframe thead th {\n",
       "        text-align: right;\n",
       "    }\n",
       "</style>\n",
       "<table border=\"1\" class=\"dataframe\">\n",
       "  <thead>\n",
       "    <tr style=\"text-align: right;\">\n",
       "      <th></th>\n",
       "      <th>ID_label</th>\n",
       "      <th>Answer_options</th>\n",
       "    </tr>\n",
       "  </thead>\n",
       "  <tbody>\n",
       "    <tr>\n",
       "      <th>1041</th>\n",
       "      <td>v0460_digi_attitudesmedia#9</td>\n",
       "      <td>Digital services allow me to discover new and exciting content</td>\n",
       "    </tr>\n",
       "    <tr>\n",
       "      <th>1042</th>\n",
       "      <td>v0460_digi_attitudesmedia#8</td>\n",
       "      <td>I prefer digital content as it is easier to manage</td>\n",
       "    </tr>\n",
       "    <tr>\n",
       "      <th>1043</th>\n",
       "      <td>v0460_digi_attitudesmedia#7</td>\n",
       "      <td>I prefer to own hard copies of films, books or music (e.g. DVD, CD, vinyl)</td>\n",
       "    </tr>\n",
       "    <tr>\n",
       "      <th>1044</th>\n",
       "      <td>v0460_digi_attitudesmedia#3</td>\n",
       "      <td>I use alternative websites and apps to watch paid content for free</td>\n",
       "    </tr>\n",
       "    <tr>\n",
       "      <th>1045</th>\n",
       "      <td>v0460_digi_attitudesmedia#6</td>\n",
       "      <td>I want to access my music / movies on all my devices (TV, smartphone, tablet, etc.)</td>\n",
       "    </tr>\n",
       "    <tr>\n",
       "      <th>1046</th>\n",
       "      <td>v0460_digi_attitudesmedia#1</td>\n",
       "      <td>I want to own films that I buy on a data carrier</td>\n",
       "    </tr>\n",
       "    <tr>\n",
       "      <th>1047</th>\n",
       "      <td>v0460_digi_attitudesmedia#2</td>\n",
       "      <td>I want to own music that I buy on a data carrier</td>\n",
       "    </tr>\n",
       "    <tr>\n",
       "      <th>1048</th>\n",
       "      <td>v0460_digi_attitudesmedia#5</td>\n",
       "      <td>It is important to me to get the best image and sound quality</td>\n",
       "    </tr>\n",
       "    <tr>\n",
       "      <th>1049</th>\n",
       "      <td>v0460_digi_attitudesmedia#10</td>\n",
       "      <td>It is too expensive to afford all the streaming services that I want</td>\n",
       "    </tr>\n",
       "    <tr>\n",
       "      <th>1050</th>\n",
       "      <td>v0460_digi_attitudesmedia#4</td>\n",
       "      <td>When I use music and video services regularly, I'm happy to pay for a subscription</td>\n",
       "    </tr>\n",
       "    <tr>\n",
       "      <th>1051</th>\n",
       "      <td>v0460_digi_attitudesmedia#888</td>\n",
       "      <td>none of the above</td>\n",
       "    </tr>\n",
       "    <tr>\n",
       "      <th>1052</th>\n",
       "      <td>v0460a_digi_usagemedia#5</td>\n",
       "      <td>audiobooks (download / streaming)</td>\n",
       "    </tr>\n",
       "    <tr>\n",
       "      <th>1053</th>\n",
       "      <td>v0460a_digi_usagemedia#4</td>\n",
       "      <td>digital music content (download / streaming)</td>\n",
       "    </tr>\n",
       "    <tr>\n",
       "      <th>1054</th>\n",
       "      <td>v0460a_digi_usagemedia#2</td>\n",
       "      <td>digital video content (download / streaming)</td>\n",
       "    </tr>\n",
       "    <tr>\n",
       "      <th>1055</th>\n",
       "      <td>v0460a_digi_usagemedia#8</td>\n",
       "      <td>music on hard copies (e.g. CD, vinyl)</td>\n",
       "    </tr>\n",
       "    <tr>\n",
       "      <th>1056</th>\n",
       "      <td>v0460a_digi_usagemedia#6</td>\n",
       "      <td>podcasts</td>\n",
       "    </tr>\n",
       "    <tr>\n",
       "      <th>1057</th>\n",
       "      <td>v0460a_digi_usagemedia#3</td>\n",
       "      <td>radio</td>\n",
       "    </tr>\n",
       "    <tr>\n",
       "      <th>1058</th>\n",
       "      <td>v0460a_digi_usagemedia#1</td>\n",
       "      <td>TV (broadcast / cable / satellite)</td>\n",
       "    </tr>\n",
       "    <tr>\n",
       "      <th>1059</th>\n",
       "      <td>v0460a_digi_usagemedia#7</td>\n",
       "      <td>video on hard copies (e.g. DVD, Blu-ray)</td>\n",
       "    </tr>\n",
       "    <tr>\n",
       "      <th>1060</th>\n",
       "      <td>v0460a_digi_usagemedia#888</td>\n",
       "      <td>none of the above</td>\n",
       "    </tr>\n",
       "    <tr>\n",
       "      <th>1061</th>\n",
       "      <td>v0460c_digi_usagemedia#1</td>\n",
       "      <td>books (print)</td>\n",
       "    </tr>\n",
       "    <tr>\n",
       "      <th>1062</th>\n",
       "      <td>v0460c_digi_usagemedia#2</td>\n",
       "      <td>eBooks</td>\n",
       "    </tr>\n",
       "    <tr>\n",
       "      <th>1063</th>\n",
       "      <td>v0460c_digi_usagemedia#3</td>\n",
       "      <td>daily newspapers (print)</td>\n",
       "    </tr>\n",
       "    <tr>\n",
       "      <th>1064</th>\n",
       "      <td>v0460c_digi_usagemedia#4</td>\n",
       "      <td>ePaper / online newspapers</td>\n",
       "    </tr>\n",
       "    <tr>\n",
       "      <th>1065</th>\n",
       "      <td>v0460c_digi_usagemedia#5</td>\n",
       "      <td>weekly newspapers (print)</td>\n",
       "    </tr>\n",
       "    <tr>\n",
       "      <th>1066</th>\n",
       "      <td>v0460c_digi_usagemedia#6</td>\n",
       "      <td>magazines (print)</td>\n",
       "    </tr>\n",
       "    <tr>\n",
       "      <th>1067</th>\n",
       "      <td>v0460c_digi_usagemedia#7</td>\n",
       "      <td>eMagazines / online magazines</td>\n",
       "    </tr>\n",
       "    <tr>\n",
       "      <th>1068</th>\n",
       "      <td>v0460c_digi_usagemedia#888</td>\n",
       "      <td>none of the above</td>\n",
       "    </tr>\n",
       "    <tr>\n",
       "      <th>1069</th>\n",
       "      <td>v0460d_digi_usagemedia#1</td>\n",
       "      <td>traditional media user</td>\n",
       "    </tr>\n",
       "    <tr>\n",
       "      <th>1070</th>\n",
       "      <td>v0460d_digi_usagemedia#2</td>\n",
       "      <td>digital media user</td>\n",
       "    </tr>\n",
       "    <tr>\n",
       "      <th>1071</th>\n",
       "      <td>v0460d_digi_usagemedia#800</td>\n",
       "      <td>non-user</td>\n",
       "    </tr>\n",
       "    <tr>\n",
       "      <th>1072</th>\n",
       "      <td>v0460e_digi_usagemedia#5</td>\n",
       "      <td>audiobooks</td>\n",
       "    </tr>\n",
       "    <tr>\n",
       "      <th>1073</th>\n",
       "      <td>v0460e_digi_usagemedia#4</td>\n",
       "      <td>digital music</td>\n",
       "    </tr>\n",
       "    <tr>\n",
       "      <th>1074</th>\n",
       "      <td>v0460e_digi_usagemedia#2</td>\n",
       "      <td>digital video</td>\n",
       "    </tr>\n",
       "    <tr>\n",
       "      <th>1075</th>\n",
       "      <td>v0460e_digi_usagemedia#6</td>\n",
       "      <td>podcasts</td>\n",
       "    </tr>\n",
       "    <tr>\n",
       "      <th>1076</th>\n",
       "      <td>v0460e_digi_usagemedia#3</td>\n",
       "      <td>radio</td>\n",
       "    </tr>\n",
       "    <tr>\n",
       "      <th>1077</th>\n",
       "      <td>v0460e_digi_usagemedia#1</td>\n",
       "      <td>TV</td>\n",
       "    </tr>\n",
       "    <tr>\n",
       "      <th>1078</th>\n",
       "      <td>v0460e_digi_usagemedia#998</td>\n",
       "      <td>don't know</td>\n",
       "    </tr>\n",
       "    <tr>\n",
       "      <th>1079</th>\n",
       "      <td>v0460m_digi_usagemedia#1</td>\n",
       "      <td>media in general (excl. hard copies)</td>\n",
       "    </tr>\n",
       "    <tr>\n",
       "      <th>1080</th>\n",
       "      <td>v0460m_digi_usagemedia#2</td>\n",
       "      <td>traditional media</td>\n",
       "    </tr>\n",
       "    <tr>\n",
       "      <th>1081</th>\n",
       "      <td>v0460m_digi_usagemedia#3</td>\n",
       "      <td>digital media</td>\n",
       "    </tr>\n",
       "    <tr>\n",
       "      <th>1082</th>\n",
       "      <td>v0460m_digi_usagemedia#800</td>\n",
       "      <td>occasional user / non-user</td>\n",
       "    </tr>\n",
       "    <tr>\n",
       "      <th>1553</th>\n",
       "      <td>v9950_life_media#5</td>\n",
       "      <td>(mobile) internet</td>\n",
       "    </tr>\n",
       "    <tr>\n",
       "      <th>1554</th>\n",
       "      <td>v9950_life_media#4</td>\n",
       "      <td>magazines</td>\n",
       "    </tr>\n",
       "    <tr>\n",
       "      <th>1555</th>\n",
       "      <td>v9950_life_media#6</td>\n",
       "      <td>movies / cinema</td>\n",
       "    </tr>\n",
       "    <tr>\n",
       "      <th>1556</th>\n",
       "      <td>v9950_life_media#3</td>\n",
       "      <td>newspapers</td>\n",
       "    </tr>\n",
       "    <tr>\n",
       "      <th>1557</th>\n",
       "      <td>v9950_life_media#2</td>\n",
       "      <td>radio</td>\n",
       "    </tr>\n",
       "    <tr>\n",
       "      <th>1558</th>\n",
       "      <td>v9950_life_media#1</td>\n",
       "      <td>TV</td>\n",
       "    </tr>\n",
       "    <tr>\n",
       "      <th>1559</th>\n",
       "      <td>v9950_life_media#888</td>\n",
       "      <td>none of the above</td>\n",
       "    </tr>\n",
       "  </tbody>\n",
       "</table>\n",
       "</div>"
      ],
      "text/plain": [
       "                           ID_label  \\\n",
       "1041    v0460_digi_attitudesmedia#9   \n",
       "1042    v0460_digi_attitudesmedia#8   \n",
       "1043    v0460_digi_attitudesmedia#7   \n",
       "1044    v0460_digi_attitudesmedia#3   \n",
       "1045    v0460_digi_attitudesmedia#6   \n",
       "1046    v0460_digi_attitudesmedia#1   \n",
       "1047    v0460_digi_attitudesmedia#2   \n",
       "1048    v0460_digi_attitudesmedia#5   \n",
       "1049   v0460_digi_attitudesmedia#10   \n",
       "1050    v0460_digi_attitudesmedia#4   \n",
       "1051  v0460_digi_attitudesmedia#888   \n",
       "1052       v0460a_digi_usagemedia#5   \n",
       "1053       v0460a_digi_usagemedia#4   \n",
       "1054       v0460a_digi_usagemedia#2   \n",
       "1055       v0460a_digi_usagemedia#8   \n",
       "1056       v0460a_digi_usagemedia#6   \n",
       "1057       v0460a_digi_usagemedia#3   \n",
       "1058       v0460a_digi_usagemedia#1   \n",
       "1059       v0460a_digi_usagemedia#7   \n",
       "1060     v0460a_digi_usagemedia#888   \n",
       "1061       v0460c_digi_usagemedia#1   \n",
       "1062       v0460c_digi_usagemedia#2   \n",
       "1063       v0460c_digi_usagemedia#3   \n",
       "1064       v0460c_digi_usagemedia#4   \n",
       "1065       v0460c_digi_usagemedia#5   \n",
       "1066       v0460c_digi_usagemedia#6   \n",
       "1067       v0460c_digi_usagemedia#7   \n",
       "1068     v0460c_digi_usagemedia#888   \n",
       "1069       v0460d_digi_usagemedia#1   \n",
       "1070       v0460d_digi_usagemedia#2   \n",
       "1071     v0460d_digi_usagemedia#800   \n",
       "1072       v0460e_digi_usagemedia#5   \n",
       "1073       v0460e_digi_usagemedia#4   \n",
       "1074       v0460e_digi_usagemedia#2   \n",
       "1075       v0460e_digi_usagemedia#6   \n",
       "1076       v0460e_digi_usagemedia#3   \n",
       "1077       v0460e_digi_usagemedia#1   \n",
       "1078     v0460e_digi_usagemedia#998   \n",
       "1079       v0460m_digi_usagemedia#1   \n",
       "1080       v0460m_digi_usagemedia#2   \n",
       "1081       v0460m_digi_usagemedia#3   \n",
       "1082     v0460m_digi_usagemedia#800   \n",
       "1553             v9950_life_media#5   \n",
       "1554             v9950_life_media#4   \n",
       "1555             v9950_life_media#6   \n",
       "1556             v9950_life_media#3   \n",
       "1557             v9950_life_media#2   \n",
       "1558             v9950_life_media#1   \n",
       "1559           v9950_life_media#888   \n",
       "\n",
       "                                                                           Answer_options  \n",
       "1041                       Digital services allow me to discover new and exciting content  \n",
       "1042                                   I prefer digital content as it is easier to manage  \n",
       "1043           I prefer to own hard copies of films, books or music (e.g. DVD, CD, vinyl)  \n",
       "1044                   I use alternative websites and apps to watch paid content for free  \n",
       "1045  I want to access my music / movies on all my devices (TV, smartphone, tablet, etc.)  \n",
       "1046                                     I want to own films that I buy on a data carrier  \n",
       "1047                                     I want to own music that I buy on a data carrier  \n",
       "1048                        It is important to me to get the best image and sound quality  \n",
       "1049                 It is too expensive to afford all the streaming services that I want  \n",
       "1050   When I use music and video services regularly, I'm happy to pay for a subscription  \n",
       "1051                                                                    none of the above  \n",
       "1052                                                    audiobooks (download / streaming)  \n",
       "1053                                         digital music content (download / streaming)  \n",
       "1054                                         digital video content (download / streaming)  \n",
       "1055                                                music on hard copies (e.g. CD, vinyl)  \n",
       "1056                                                                             podcasts  \n",
       "1057                                                                                radio  \n",
       "1058                                                   TV (broadcast / cable / satellite)  \n",
       "1059                                             video on hard copies (e.g. DVD, Blu-ray)  \n",
       "1060                                                                    none of the above  \n",
       "1061                                                                        books (print)  \n",
       "1062                                                                               eBooks  \n",
       "1063                                                             daily newspapers (print)  \n",
       "1064                                                           ePaper / online newspapers  \n",
       "1065                                                            weekly newspapers (print)  \n",
       "1066                                                                    magazines (print)  \n",
       "1067                                                        eMagazines / online magazines  \n",
       "1068                                                                    none of the above  \n",
       "1069                                                               traditional media user  \n",
       "1070                                                                   digital media user  \n",
       "1071                                                                             non-user  \n",
       "1072                                                                           audiobooks  \n",
       "1073                                                                        digital music  \n",
       "1074                                                                        digital video  \n",
       "1075                                                                             podcasts  \n",
       "1076                                                                                radio  \n",
       "1077                                                                                   TV  \n",
       "1078                                                                           don't know  \n",
       "1079                                                 media in general (excl. hard copies)  \n",
       "1080                                                                    traditional media  \n",
       "1081                                                                        digital media  \n",
       "1082                                                           occasional user / non-user  \n",
       "1553                                                                    (mobile) internet  \n",
       "1554                                                                            magazines  \n",
       "1555                                                                      movies / cinema  \n",
       "1556                                                                           newspapers  \n",
       "1557                                                                                radio  \n",
       "1558                                                                                   TV  \n",
       "1559                                                                    none of the above  "
      ]
     },
     "execution_count": 80,
     "metadata": {},
     "output_type": "execute_result"
    }
   ],
   "source": [
    "answers_df[answers_df['ID_label'].str.contains('media')]"
   ]
  },
  {
   "cell_type": "markdown",
   "id": "19b056d2",
   "metadata": {},
   "source": [
    "#### IM User"
   ]
  },
  {
   "cell_type": "code",
   "execution_count": 81,
   "id": "37650c01",
   "metadata": {},
   "outputs": [],
   "source": [
    "df_servsurv['v0443d_inte_social'].unique()\n",
    "\n",
    "df_servsurv['v0443d_inte_social_num'] = np.where(df_servsurv['v0443d_inte_social']=='instant messaging user',1,0)\n",
    "df_servsurv['v0443d_inte_social_num'] = df_servsurv['v0443d_inte_social_num'].astype('float')"
   ]
  },
  {
   "cell_type": "markdown",
   "id": "e89bb5c6",
   "metadata": {},
   "source": [
    "#### Age"
   ]
  },
  {
   "cell_type": "code",
   "execution_count": 82,
   "id": "7821e1e1",
   "metadata": {},
   "outputs": [],
   "source": [
    "df_servsurv[\"v0013d_demo_agecat\"].unique()\n",
    "\n",
    "df_servsurv[\"v0013d_demo_agecat_num\"] = df_servsurv[\"v0013d_demo_agecat\"].apply(lambda x: float(x[:2]))"
   ]
  },
  {
   "cell_type": "markdown",
   "id": "4c4602aa",
   "metadata": {},
   "source": [
    "#### Income"
   ]
  },
  {
   "cell_type": "code",
   "execution_count": 83,
   "id": "2ab19478",
   "metadata": {},
   "outputs": [],
   "source": [
    "ques_df[ques_df['ID_label'].str.contains('v9990')]['Question'].unique()\n",
    "\n",
    "answers_df[answers_df['ID_label'].str.contains('v9990')]\n",
    "\n",
    "df_servsurv.filter(regex=(\"v9990c.*\"))\n",
    "\n",
    "df_servsurv['income_top_10%'] = np.where(df_servsurv['v9990c_demo_income_5#1']==1,1,0)\n",
    "df_servsurv['income_top_10%'] = df_servsurv['income_top_10%'].astype('float')"
   ]
  },
  {
   "cell_type": "markdown",
   "id": "489319d1",
   "metadata": {},
   "source": [
    "#### Update non-num cols "
   ]
  },
  {
   "cell_type": "code",
   "execution_count": 84,
   "id": "0c8aaebb",
   "metadata": {},
   "outputs": [],
   "source": [
    "num_cols = []\n",
    "for col in df_servsurv.columns:\n",
    "    if df_servsurv[col].dtype == 'float64':\n",
    "        num_cols.append(col)\n",
    "        \n",
    "df_servsurv_num = df_servsurv[num_cols]"
   ]
  },
  {
   "cell_type": "markdown",
   "id": "03cab8c5",
   "metadata": {},
   "source": [
    "## Clustering (K-Means)\n",
    "\n",
    "### What is the optimal number of clusters? (Ans: 2-3)\n"
   ]
  },
  {
   "cell_type": "code",
   "execution_count": 85,
   "id": "0a89e40b",
   "metadata": {},
   "outputs": [],
   "source": [
    "kmeans_df = df_servsurv_num.drop(['wave'],axis=1)\n",
    "kmeans_df = min_max_scaler.fit_transform(kmeans_df)"
   ]
  },
  {
   "cell_type": "code",
   "execution_count": 86,
   "id": "2b7d31ac",
   "metadata": {},
   "outputs": [
    {
     "data": {
      "image/png": "[encoded data removed]",
      "text/plain": [
       "<Figure size 1152x576 with 1 Axes>"
      ]
     },
     "metadata": {
      "needs_background": "light"
     },
     "output_type": "display_data"
    }
   ],
   "source": [
    "distortions = []\n",
    "K = range(1,10)\n",
    "for k in K:\n",
    "    kmeanModel = KMeans(n_clusters=k)\n",
    "    kmeanModel.fit(kmeans_df) #df.drop(['B', 'C'], axis=1)\n",
    "    distortions.append(kmeanModel.inertia_)\n",
    "\n",
    "plt.figure(figsize=(16,8))\n",
    "plt.plot(K, distortions, 'bx-')\n",
    "plt.xlabel('k')\n",
    "plt.ylabel('Distortion')\n",
    "plt.title('The Elbow Method showing the optimal k')\n",
    "plt.show()"
   ]
  },
  {
   "cell_type": "markdown",
   "id": "971c7918",
   "metadata": {},
   "source": [
    "### Is the optimal number of clusters the same for both waves? (Ans: Yes)"
   ]
  },
  {
   "cell_type": "code",
   "execution_count": 87,
   "id": "d5116866",
   "metadata": {},
   "outputs": [
    {
     "name": "stderr",
     "output_type": "stream",
     "text": [
      "C:\\Users\\ClaireKelleher\\anaconda3\\lib\\site-packages\\sklearn\\cluster\\_kmeans.py:881: UserWarning: KMeans is known to have a memory leak on Windows with MKL, when there are less chunks than available threads. You can avoid it by setting the environment variable OMP_NUM_THREADS=5.\n",
      "  warnings.warn(\n",
      "C:\\Users\\ClaireKelleher\\anaconda3\\lib\\site-packages\\sklearn\\cluster\\_kmeans.py:881: UserWarning: KMeans is known to have a memory leak on Windows with MKL, when there are less chunks than available threads. You can avoid it by setting the environment variable OMP_NUM_THREADS=5.\n",
      "  warnings.warn(\n"
     ]
    },
    {
     "data": {
      "image/png": "[encoded data removed]",
      "text/plain": [
       "<Figure size 1152x576 with 1 Axes>"
      ]
     },
     "metadata": {
      "needs_background": "light"
     },
     "output_type": "display_data"
    }
   ],
   "source": [
    "df_servsurv_num_w1 = df_servsurv_num.loc[df_servsurv_num['wave']==1.0].reset_index()\n",
    "df_servsurv_num_w2 = df_servsurv_num.loc[df_servsurv_num['wave']==2.0].reset_index()\n",
    "\n",
    "kmeans_df_w1 = min_max_scaler.fit_transform(df_servsurv_num_w1)\n",
    "kmeans_df_w2 = min_max_scaler.fit_transform(df_servsurv_num_w2)\n",
    "\n",
    "\n",
    "\n",
    "distortions_w1 = []\n",
    "K = range(1,10)\n",
    "for k in K:\n",
    "    kmeanModel = KMeans(n_clusters=k)\n",
    "    kmeanModel.fit(kmeans_df_w1)\n",
    "    distortions_w1.append(kmeanModel.inertia_)\n",
    "\n",
    "distortions_w2 = []\n",
    "K = range(1,10)\n",
    "for k in K:\n",
    "    kmeanModel = KMeans(n_clusters=k)\n",
    "    kmeanModel.fit(kmeans_df_w2)\n",
    "    distortions_w2.append(kmeanModel.inertia_)    \n",
    "\n",
    "\n",
    "plt.figure(figsize=(16,8))\n",
    "plt.plot(K, distortions_w1, 'bx-')\n",
    "plt.plot(K, distortions_w2, 'rx-')\n",
    "plt.xlabel('k')\n",
    "plt.ylabel('Distortion')\n",
    "plt.title('The Elbow Method showing the optimal k')\n",
    "plt.legend([\"wave 1\", \"wave 2\"], loc =\"upper right\", prop={'size': 6})\n",
    "plt.show()"
   ]
  },
  {
   "cell_type": "markdown",
   "id": "36fb6c48",
   "metadata": {},
   "source": [
    "\n",
    "### What features most distinctively create clusters? Does this change by wave?"
   ]
  },
  {
   "cell_type": "code",
   "execution_count": 88,
   "id": "6afdc327",
   "metadata": {},
   "outputs": [],
   "source": [
    "optimal_k = 3"
   ]
  },
  {
   "cell_type": "code",
   "execution_count": 89,
   "id": "8576d57a",
   "metadata": {},
   "outputs": [
    {
     "data": {
      "text/plain": [
       "1    508\n",
       "2    286\n",
       "0    253\n",
       "Name: cluster, dtype: int64"
      ]
     },
     "execution_count": 89,
     "metadata": {},
     "output_type": "execute_result"
    }
   ],
   "source": [
    "#W1\n",
    "kmeanModel = KMeans(n_clusters=optimal_k)\n",
    "kmeanModel.fit(kmeans_df_w1)\n",
    "\n",
    "kmeans_df_w1 = pd.DataFrame(kmeans_df_w1)\n",
    "kmeans_df_w1.columns = df_servsurv_num_w1.columns\n",
    "kmeans_df_w1['cluster'] = pd.Series(kmeanModel.labels_)\n",
    "\n",
    "kmeans_df_w1_res = pd.DataFrame(kmeans_df_w1.corr()['cluster']).reset_index() #unsorted\n",
    "kmeans_df_w1_res = kmeans_df_w1_res.rename(columns={'cluster':'corr'})\n",
    "kmeans_df_w1_res = kmeans_df_w1_res[(kmeans_df_w1_res['index'] != 'cluster') & (kmeans_df_w1_res['index'] != 'wave')]\n",
    "\n",
    "kmeans_df_w1_res = kmeans_df_w1_res.sort_values(by='corr', key=abs, ascending=False)\n",
    "\n",
    "kmeans_df_w1_res['ques'] = kmeans_df_w1_res['index'].apply(lambda x: x.split('#')[0])\n",
    "kmeans_df_w1_res = kmeans_df_w1_res.rename(columns={'index':'answer'})\n",
    "\n",
    "dist_qs_w1 = kmeans_df_w1_res['ques'].drop_duplicates().head()\n",
    "\n",
    "\n",
    "kmeans_df_w1['cluster'].value_counts()\n",
    "\n",
    "#W2\n",
    "kmeanModel = KMeans(n_clusters=optimal_k)\n",
    "kmeanModel.fit(kmeans_df_w2)\n",
    "\n",
    "kmeans_df_w2 = pd.DataFrame(kmeans_df_w2)\n",
    "kmeans_df_w2.columns = df_servsurv_num_w2.columns\n",
    "kmeans_df_w2['cluster'] = pd.Series(kmeanModel.labels_)\n",
    "\n",
    "kmeans_df_w2_res = pd.DataFrame(kmeans_df_w2.corr()['cluster']).reset_index() #unsorted\n",
    "kmeans_df_w2_res = kmeans_df_w2_res.rename(columns={'cluster':'corr'})\n",
    "kmeans_df_w2_res = kmeans_df_w2_res[(kmeans_df_w2_res['index'] != 'cluster') & (kmeans_df_w2_res['index'] != 'wave')]\n",
    "\n",
    "kmeans_df_w2_res = kmeans_df_w2_res.sort_values(by='corr', key=abs, ascending=False)\n",
    "\n",
    "kmeans_df_w2_res['ques'] = kmeans_df_w2_res['index'].apply(lambda x: x.split('#')[0])\n",
    "kmeans_df_w2_res = kmeans_df_w2_res.rename(columns={'index':'answer'})\n",
    "\n",
    "dist_qs_w2 = kmeans_df_w2_res['ques'].drop_duplicates().head() #distinct question labels \n",
    "\n",
    "kmeans_df_w2['cluster'].value_counts()"
   ]
  },
  {
   "cell_type": "markdown",
   "id": "43cd0978",
   "metadata": {},
   "source": [
    "### What are the demograhics of each cluster?"
   ]
  },
  {
   "cell_type": "code",
   "execution_count": 90,
   "id": "4d8c8a2d",
   "metadata": {},
   "outputs": [],
   "source": [
    "kmeans_df_w1.head()\n",
    "\n",
    "kmeans_df_w1.groupby('cluster').mean()[['v0013d_demo_agecat_num'\n",
    "                                        ,'income_top_10%'\n",
    "                                        ,'v0443d_inte_social_num'\n",
    "                                        ,'v9930c_life_values#1']]#.to_csv('es_kmeans_df_w1_clusters_demo.csv')\n",
    "\n",
    "kmeans_df_w2.groupby('cluster').mean()[['v0013d_demo_agecat_num'\n",
    "                                        ,'income_top_10%'\n",
    "                                        ,'v0443d_inte_social_num'\n",
    "                                        ,'v9930c_life_values#1']]#.to_csv('es_kmeans_df_w2_clusters_demo.csv')\n",
    "\n",
    "ans_ques_w1 = kmeans_df_w1_res[kmeans_df_w1_res.index.isin(dist_qs_w1.index)]\n",
    "ans_ques_w1['wave'] = 1\n",
    "ans_ques_w2 = kmeans_df_w2_res[kmeans_df_w2_res.index.isin(dist_qs_w2.index)]\n",
    "ans_ques_w2['wave'] = 2\n",
    "ques_ans_kmeans = ans_ques_w1.append(ans_ques_w2)\n",
    "\n",
    "\n",
    "ques_ans_kmeans = ques_ans_kmeans.merge(answers_df,left_on='answer',right_on='ID_label').drop(columns=['ID_label'])\n",
    "ques_ans_kmeans = ques_ans_kmeans.merge(ques_df,left_on='ques',right_on='ID_label', how='inner')\n",
    "ques_ans_kmeans.to_csv('ques_titles_kmeans.csv')\n",
    "\n",
    "kmeans_df_w1.groupby('cluster').mean()[ques_ans_kmeans['answer']].to_csv('es_kmeans_df_w1_clusters.csv')\n",
    "kmeans_df_w2.groupby('cluster').mean()[ques_ans_kmeans['answer']].to_csv('es_kmeans_df_w2_clusters.csv')"
   ]
  },
  {
   "cell_type": "markdown",
   "id": "62eaa8f9",
   "metadata": {},
   "source": [
    "### Both waves"
   ]
  },
  {
   "cell_type": "code",
   "execution_count": 91,
   "id": "af042021",
   "metadata": {},
   "outputs": [],
   "source": [
    "kmeans_df = df_servsurv_num.drop(['wave'],axis=1)\n",
    "kmeans_df = min_max_scaler.fit_transform(kmeans_df)\n",
    "\n",
    "kmeanModel = KMeans(n_clusters=optimal_k)\n",
    "kmeanModel.fit(kmeans_df)\n",
    "\n",
    "kmeans_df = pd.DataFrame(kmeans_df)\n",
    "kmeans_df.columns = df_servsurv_num.drop(['wave'],axis=1).columns\n",
    "kmeans_df['cluster'] = pd.Series(kmeanModel.labels_)\n",
    "\n",
    "kmeans_df_res = pd.DataFrame(kmeans_df.corr()['cluster']).reset_index() #unsorted\n",
    "kmeans_df_res = kmeans_df_res.rename(columns={'cluster':'corr'})\n",
    "kmeans_df_res = kmeans_df_res[(kmeans_df_res['index'] != 'cluster') & (kmeans_df_res['index'] != 'wave')]\n",
    "kmeans_df_res = kmeans_df_res.sort_values(by='corr', key=abs, ascending=False) #sorted by abs corr\n",
    "kmeans_df_res['ques'] = kmeans_df_res['index'].apply(lambda x: x.split('#')[0])\n",
    "kmeans_df_res = kmeans_df_res.rename(columns={'index':'answer'})\n",
    "dist_qs_bothw = kmeans_df_res['ques'].drop_duplicates().head(10)\n",
    "\n",
    "ques_ans_kmeans_bw = kmeans_df_res[kmeans_df_res.index.isin(dist_qs_bothw.index)]\n",
    "ques_ans_kmeans_bw = ques_ans_kmeans_bw.merge(answers_df,left_on='answer',right_on='ID_label').drop(columns=['ID_label'])\n",
    "ques_ans_kmeans_bw = ques_ans_kmeans_bw.merge(ques_df,left_on='ques',right_on='ID_label', how='inner')\n",
    "\n",
    "rev_scale = pd.DataFrame(min_max_scaler.inverse_transform(kmeans_df.drop(columns=['cluster'])))\n",
    "rev_scale.columns = df_servsurv_num.drop(['wave'],axis=1).columns\n",
    "rev_scale = rev_scale.merge(kmeans_df['cluster'] ,left_index=True, right_index=True)"
   ]
  },
  {
   "cell_type": "code",
   "execution_count": 92,
   "id": "da3b16ed",
   "metadata": {},
   "outputs": [
    {
     "data": {
      "text/html": [
       "<div>\n",
       "<style scoped>\n",
       "    .dataframe tbody tr th:only-of-type {\n",
       "        vertical-align: middle;\n",
       "    }\n",
       "\n",
       "    .dataframe tbody tr th {\n",
       "        vertical-align: top;\n",
       "    }\n",
       "\n",
       "    .dataframe thead th {\n",
       "        text-align: right;\n",
       "    }\n",
       "</style>\n",
       "<table border=\"1\" class=\"dataframe\">\n",
       "  <thead>\n",
       "    <tr style=\"text-align: right;\">\n",
       "      <th></th>\n",
       "      <th>GV_198#31</th>\n",
       "      <th>GV_163#6</th>\n",
       "      <th>GV_230#13</th>\n",
       "      <th>GV_14#30</th>\n",
       "      <th>GV_133#16</th>\n",
       "      <th>GV_132#1</th>\n",
       "      <th>GV_136#3</th>\n",
       "      <th>GV_31#10</th>\n",
       "      <th>GV_339#20</th>\n",
       "      <th>GV_32#5</th>\n",
       "    </tr>\n",
       "    <tr>\n",
       "      <th>cluster</th>\n",
       "      <th></th>\n",
       "      <th></th>\n",
       "      <th></th>\n",
       "      <th></th>\n",
       "      <th></th>\n",
       "      <th></th>\n",
       "      <th></th>\n",
       "      <th></th>\n",
       "      <th></th>\n",
       "      <th></th>\n",
       "    </tr>\n",
       "  </thead>\n",
       "  <tbody>\n",
       "    <tr>\n",
       "      <th>0</th>\n",
       "      <td>-88.357477</td>\n",
       "      <td>-57.093458</td>\n",
       "      <td>-94.366822</td>\n",
       "      <td>-66.144860</td>\n",
       "      <td>-94.591121</td>\n",
       "      <td>-92.266355</td>\n",
       "      <td>-88.579439</td>\n",
       "      <td>-89.502336</td>\n",
       "      <td>-95.282710</td>\n",
       "      <td>-51.992991</td>\n",
       "    </tr>\n",
       "    <tr>\n",
       "      <th>1</th>\n",
       "      <td>-1.083594</td>\n",
       "      <td>-0.512500</td>\n",
       "      <td>-4.987500</td>\n",
       "      <td>-4.376563</td>\n",
       "      <td>-0.950000</td>\n",
       "      <td>-1.617188</td>\n",
       "      <td>-0.452344</td>\n",
       "      <td>-0.574219</td>\n",
       "      <td>-12.135156</td>\n",
       "      <td>-0.865625</td>\n",
       "    </tr>\n",
       "    <tr>\n",
       "      <th>2</th>\n",
       "      <td>-8.007673</td>\n",
       "      <td>-4.948849</td>\n",
       "      <td>-27.997442</td>\n",
       "      <td>-9.565217</td>\n",
       "      <td>-31.411765</td>\n",
       "      <td>-33.153453</td>\n",
       "      <td>-40.398977</td>\n",
       "      <td>-44.450128</td>\n",
       "      <td>-62.613811</td>\n",
       "      <td>-26.902813</td>\n",
       "    </tr>\n",
       "  </tbody>\n",
       "</table>\n",
       "</div>"
      ],
      "text/plain": [
       "         GV_198#31   GV_163#6  GV_230#13   GV_14#30  GV_133#16   GV_132#1  \\\n",
       "cluster                                                                     \n",
       "0       -88.357477 -57.093458 -94.366822 -66.144860 -94.591121 -92.266355   \n",
       "1        -1.083594  -0.512500  -4.987500  -4.376563  -0.950000  -1.617188   \n",
       "2        -8.007673  -4.948849 -27.997442  -9.565217 -31.411765 -33.153453   \n",
       "\n",
       "          GV_136#3   GV_31#10  GV_339#20    GV_32#5  \n",
       "cluster                                              \n",
       "0       -88.579439 -89.502336 -95.282710 -51.992991  \n",
       "1        -0.452344  -0.574219 -12.135156  -0.865625  \n",
       "2       -40.398977 -44.450128 -62.613811 -26.902813  "
      ]
     },
     "execution_count": 92,
     "metadata": {},
     "output_type": "execute_result"
    }
   ],
   "source": [
    "rev_scale.groupby('cluster').mean()[ques_ans_kmeans_bw['answer']]"
   ]
  },
  {
   "cell_type": "code",
   "execution_count": 93,
   "id": "3d6999ac",
   "metadata": {},
   "outputs": [
    {
     "data": {
      "text/html": [
       "<div>\n",
       "<style scoped>\n",
       "    .dataframe tbody tr th:only-of-type {\n",
       "        vertical-align: middle;\n",
       "    }\n",
       "\n",
       "    .dataframe tbody tr th {\n",
       "        vertical-align: top;\n",
       "    }\n",
       "\n",
       "    .dataframe thead th {\n",
       "        text-align: right;\n",
       "    }\n",
       "</style>\n",
       "<table border=\"1\" class=\"dataframe\">\n",
       "  <thead>\n",
       "    <tr style=\"text-align: right;\">\n",
       "      <th></th>\n",
       "      <th>v0013d_demo_agecat_num</th>\n",
       "      <th>income_top_10%</th>\n",
       "      <th>v0443d_inte_social_num</th>\n",
       "      <th>v9930c_life_values#1</th>\n",
       "    </tr>\n",
       "    <tr>\n",
       "      <th>cluster</th>\n",
       "      <th></th>\n",
       "      <th></th>\n",
       "      <th></th>\n",
       "      <th></th>\n",
       "    </tr>\n",
       "  </thead>\n",
       "  <tbody>\n",
       "    <tr>\n",
       "      <th>0</th>\n",
       "      <td>31.238318</td>\n",
       "      <td>0.095794</td>\n",
       "      <td>0.761682</td>\n",
       "      <td>0.308411</td>\n",
       "    </tr>\n",
       "    <tr>\n",
       "      <th>1</th>\n",
       "      <td>39.106250</td>\n",
       "      <td>0.088281</td>\n",
       "      <td>0.725781</td>\n",
       "      <td>0.184375</td>\n",
       "    </tr>\n",
       "    <tr>\n",
       "      <th>2</th>\n",
       "      <td>32.439898</td>\n",
       "      <td>0.061381</td>\n",
       "      <td>0.754476</td>\n",
       "      <td>0.299233</td>\n",
       "    </tr>\n",
       "  </tbody>\n",
       "</table>\n",
       "</div>"
      ],
      "text/plain": [
       "         v0013d_demo_agecat_num  income_top_10%  v0443d_inte_social_num  \\\n",
       "cluster                                                                   \n",
       "0                     31.238318        0.095794                0.761682   \n",
       "1                     39.106250        0.088281                0.725781   \n",
       "2                     32.439898        0.061381                0.754476   \n",
       "\n",
       "         v9930c_life_values#1  \n",
       "cluster                        \n",
       "0                    0.308411  \n",
       "1                    0.184375  \n",
       "2                    0.299233  "
      ]
     },
     "execution_count": 93,
     "metadata": {},
     "output_type": "execute_result"
    }
   ],
   "source": [
    "rev_scale.groupby('cluster').mean()[['v0013d_demo_agecat_num'\n",
    "                                        ,'income_top_10%'\n",
    "                                        ,'v0443d_inte_social_num'\n",
    "                                        ,'v9930c_life_values#1']]"
   ]
  },
  {
   "cell_type": "code",
   "execution_count": 94,
   "id": "b4dfc102",
   "metadata": {},
   "outputs": [
    {
     "data": {
      "text/plain": [
       "1    1280\n",
       "0     428\n",
       "2     391\n",
       "Name: cluster, dtype: int64"
      ]
     },
     "execution_count": 94,
     "metadata": {},
     "output_type": "execute_result"
    }
   ],
   "source": [
    "rev_scale['cluster'].value_counts()"
   ]
  },
  {
   "cell_type": "code",
   "execution_count": 95,
   "id": "216efe11",
   "metadata": {},
   "outputs": [
    {
     "data": {
      "image/png": "[encoded data removed]",
      "text/plain": [
       "<Figure size 432x288 with 1 Axes>"
      ]
     },
     "metadata": {
      "needs_background": "light"
     },
     "output_type": "display_data"
    },
    {
     "data": {
      "image/png": "[encoded data removed]",
      "text/plain": [
       "<Figure size 432x288 with 1 Axes>"
      ]
     },
     "metadata": {
      "needs_background": "light"
     },
     "output_type": "display_data"
    },
    {
     "data": {
      "image/png": "[encoded data removed]",
      "text/plain": [
       "<Figure size 432x288 with 1 Axes>"
      ]
     },
     "metadata": {
      "needs_background": "light"
     },
     "output_type": "display_data"
    },
    {
     "data": {
      "image/png": "[encoded data removed]",
      "text/plain": [
       "<Figure size 432x288 with 1 Axes>"
      ]
     },
     "metadata": {
      "needs_background": "light"
     },
     "output_type": "display_data"
    },
    {
     "data": {
      "image/png": "[encoded data removed]",
      "text/plain": [
       "<Figure size 432x288 with 1 Axes>"
      ]
     },
     "metadata": {
      "needs_background": "light"
     },
     "output_type": "display_data"
    },
    {
     "data": {
      "image/png": "[encoded data removed]",
      "text/plain": [
       "<Figure size 432x288 with 1 Axes>"
      ]
     },
     "metadata": {
      "needs_background": "light"
     },
     "output_type": "display_data"
    },
    {
     "data": {
      "image/png": "[encoded data removed]",
      "text/plain": [
       "<Figure size 432x288 with 1 Axes>"
      ]
     },
     "metadata": {
      "needs_background": "light"
     },
     "output_type": "display_data"
    },
    {
     "data": {
      "image/png": "[encoded data removed]",
      "text/plain": [
       "<Figure size 432x288 with 1 Axes>"
      ]
     },
     "metadata": {
      "needs_background": "light"
     },
     "output_type": "display_data"
    },
    {
     "data": {
      "image/png": "[encoded data removed]",
      "text/plain": [
       "<Figure size 432x288 with 1 Axes>"
      ]
     },
     "metadata": {
      "needs_background": "light"
     },
     "output_type": "display_data"
    },
    {
     "data": {
      "image/png": "[encoded data removed]",
      "text/plain": [
       "<Figure size 432x288 with 1 Axes>"
      ]
     },
     "metadata": {
      "needs_background": "light"
     },
     "output_type": "display_data"
    },
    {
     "data": {
      "text/plain": [
       "<Figure size 432x288 with 0 Axes>"
      ]
     },
     "metadata": {},
     "output_type": "display_data"
    }
   ],
   "source": [
    "fig = plt.figure()\n",
    "ax = fig.add_subplot(111)\n",
    "for i in ques_ans_kmeans_bw['answer']:\n",
    "    rev_scale[rev_scale[i] != -99].loc[rev_scale.cluster==0, i].hist(bins=50, alpha=0.2, label='cluster 0', density=True)\n",
    "    rev_scale[rev_scale[i] != -99].loc[rev_scale.cluster==1, i].hist(bins=50, alpha=0.2, label='cluster 1', density=True)\n",
    "    rev_scale[rev_scale[i] != -99].loc[rev_scale.cluster==2, i].hist(bins=50, alpha=0.2, label='cluster 2', density=True)\n",
    "    plt.xlabel(i)\n",
    "    plt.ylabel(\"% Cluster\")\n",
    "    plt.figure()\n",
    "    ax.legend()"
   ]
  }
 ],
 "metadata": {
  "kernelspec": {
   "display_name": "Python 3",
   "language": "python",
   "name": "python3"
  },
  "language_info": {
   "codemirror_mode": {
    "name": "ipython",
    "version": 3
   },
   "file_extension": ".py",
   "mimetype": "text/x-python",
   "name": "python",
   "nbconvert_exporter": "python",
   "pygments_lexer": "ipython3",
   "version": "3.8.8"
  }
 },
 "nbformat": 4,
 "nbformat_minor": 5
}
